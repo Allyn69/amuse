{
 "metadata": {
  "name": "01-Loading_AMUSE"
 },
 "nbformat": 3,
 "nbformat_minor": 0,
 "worksheets": [
  {
   "cells": [
    {
     "cell_type": "markdown",
     "metadata": {},
     "source": [
      "The AMUSE framework is divided over several python packages and modules. All these have one common root module: _amuse_. This root defines the namespace of all sub-packages and modules. You can load the amuse module with:"
     ]
    },
    {
     "cell_type": "code",
     "collapsed": false,
     "input": [
      "import amuse"
     ],
     "language": "python",
     "metadata": {},
     "outputs": [],
     "prompt_number": 1
    },
    {
     "cell_type": "markdown",
     "metadata": {},
     "source": [
      "However the _amuse_ module is mostly empty, as you can see when you try 'Tab' completion on the amuse module or run dir(amuse)"
     ]
    },
    {
     "cell_type": "code",
     "collapsed": false,
     "input": [
      "dir(amuse)"
     ],
     "language": "python",
     "metadata": {},
     "outputs": [
      {
       "output_type": "pyout",
       "prompt_number": 2,
       "text": [
        "['__builtins__', '__doc__', '__file__', '__name__', '__package__', '__path__']"
       ]
      }
     ],
     "prompt_number": 2
    },
    {
     "cell_type": "markdown",
     "metadata": {},
     "source": [
      "The main body of the AMUSE framework is divided over 4 packages, each subdivided into more packages and modules.\n",
      "\n",
      "### community ###\n",
      "\n",
      "This packages contains all the communtity codes. All software integrated into AMUSE, (N-body, stellar evolution, hydrodynamics and radiative transfer codes) is called a _community_ code in AMUSE. Each community code is defined in a separate sub-package and every sub-package contains at least one module called `interface`. You can load a community code with: `from amuse.community.<codename>.interface import <codeclass>`. In later tutorials we will learn more about the codes and how to interact with each."
     ]
    },
    {
     "cell_type": "code",
     "collapsed": false,
     "input": [
      "from amuse.community.bhtree.interface import BHTree\n",
      "print BHTree"
     ],
     "language": "python",
     "metadata": {},
     "outputs": [
      {
       "output_type": "stream",
       "stream": "stdout",
       "text": [
        "<class 'amuse.community.bhtree.interface.BHTree'>\n"
       ]
      }
     ],
     "prompt_number": 3
    },
    {
     "cell_type": "markdown",
     "metadata": {},
     "source": [
      "### units ###\n",
      "\n",
      "A package to work with quantities and units. All calculations in AMUSE are done with quantities having units. These quantities and their units are implemented as python classes and can be used almost everywere you would normaly use a number (or a `numpy` array). In the next tutorial we will come back to the units, for now we will show a simple example "
     ]
    },
    {
     "cell_type": "code",
     "collapsed": false,
     "input": [
      "from amuse.units import units\n",
      "from amuse.units import constants"
     ],
     "language": "python",
     "metadata": {},
     "outputs": [],
     "prompt_number": 4
    },
    {
     "cell_type": "code",
     "collapsed": false,
     "input": [
      "constants.G * ( 5.972e24 | units.kg) /  (6378.1 | units.km )**2"
     ],
     "language": "python",
     "metadata": {},
     "outputs": [
      {
       "output_type": "pyout",
       "prompt_number": 5,
       "text": [
        "quantity<9.7980933561 m * s**-2>"
       ]
      }
     ],
     "prompt_number": 5
    },
    {
     "cell_type": "markdown",
     "metadata": {},
     "source": [
      "### datamodel ###\n",
      "\n",
      "All astrophysical bodies (stars, clouds, planets etc) are modelled with sets of particles or on grids. These sets and grids are defined in the _datamodel_ package. You will see these used everywhere in amuse and in several tutorials we will cover them in more detail. "
     ]
    },
    {
     "cell_type": "code",
     "collapsed": false,
     "input": [
      "from amuse.datamodel import Particles\n",
      "solar_system_planets = Particles(7)\n",
      "solar_system_planets.mass = [641.85, 4868.5, 5973.6, 102430, 86832, 568460, 1898600] | (1e21 * units.kg)\n",
      "print solar_system_planets"
     ],
     "language": "python",
     "metadata": {},
     "outputs": [
      {
       "output_type": "stream",
       "stream": "stdout",
       "text": [
        "                 key         mass\n",
        "                   -   1e+21 * kg\n",
        "====================  ===========\n",
        "11759470220597295702    6.419e+02\n",
        " 7680937547177477680    4.868e+03\n",
        "14603854154785062813    5.974e+03\n",
        "16121505676595775052    1.024e+05\n",
        "11072938864231128317    8.683e+04\n",
        " 9591854211029195670    5.685e+05\n",
        "11947799990975573772    1.899e+06\n",
        "====================  ===========\n"
       ]
      }
     ],
     "prompt_number": 6
    },
    {
     "cell_type": "markdown",
     "metadata": {},
     "source": [
      "### rfi ###\n",
      "\n",
      "The AMUSE framework is written in Python, most codes are written in C or Fortran. In AMUSE the Remote Function Invocation or _rfi_ package implements all classes and tools to call functions on the community codes. The _rfi_ package implements support for communicating over MPI, raw sockets and Ibis. This code is mainly used internally to the framework and in most scripts you will not see it, but you will be using it!"
     ]
    },
    {
     "cell_type": "code",
     "collapsed": false,
     "input": [
      "from amuse.rfi.channel import is_mpd_running\n",
      "print is_mpd_running()"
     ],
     "language": "python",
     "metadata": {},
     "outputs": [
      {
       "output_type": "stream",
       "stream": "stdout",
       "text": [
        "True\n"
       ]
      }
     ],
     "prompt_number": 7
    },
    {
     "cell_type": "markdown",
     "metadata": {},
     "source": [
      "### couple ###\n",
      "\n",
      "Eventually you will want to connect different codes to simulate a coupled problem. As AMUSE is written in Python, you can easily write your own coupling strategy but in most cases you do not need to do this. This package contains several predefined coupling strategies, two of which we will cover in a later tutorial."
     ]
    },
    {
     "cell_type": "code",
     "collapsed": false,
     "input": [
      "from amuse.couple import bridge"
     ],
     "language": "python",
     "metadata": {},
     "outputs": [],
     "prompt_number": 8
    },
    {
     "cell_type": "markdown",
     "metadata": {},
     "source": [
      "### io ###\n",
      "\n",
      "Saving and loading models is an important feature in AMUSE. AMUSE defines it's own format and supports a number of common file formats often used in astro-physical codes. All saving all loading is supported through two functions: *(this example depends on the datamodel example earlier on this page, if you get a NameError please rerun that cell)*"
     ]
    },
    {
     "cell_type": "code",
     "collapsed": false,
     "input": [
      "from amuse import io\n",
      "io.write_set_to_file(solar_system_planets, \"solar.hdf5\")\n",
      "print io.read_set_from_file(\"solar.hdf5\")\n"
     ],
     "language": "python",
     "metadata": {},
     "outputs": [
      {
       "output_type": "stream",
       "stream": "stdout",
       "text": [
        "                 key         mass\n",
        "                   -   1e+21 * kg\n",
        "====================  ===========\n",
        "15971190610269553817    6.419e+02\n",
        "  769616704393732824    4.868e+03\n",
        "   93061822910076228    5.974e+03\n",
        "17506344067243819066    1.024e+05\n",
        "14608055696462349340    8.683e+04\n",
        "11147579528564337851    5.685e+05\n",
        "14042327815465030986    1.899e+06\n",
        "====================  ===========\n"
       ]
      }
     ],
     "prompt_number": 9
    },
    {
     "cell_type": "markdown",
     "metadata": {},
     "source": [
      "### ic ###\n",
      "The Initial Conditions _ic_ package provides a small set of often used algorithms to create an initial particle set or grid. The current set of supported algorithms is small but provides good examples for further extension. "
     ]
    },
    {
     "cell_type": "code",
     "collapsed": false,
     "input": [
      "from amuse.ic import plummer\n",
      "particles = plummer.new_plummer_model(25)\n",
      "print particles.mass.sum()"
     ],
     "language": "python",
     "metadata": {},
     "outputs": [
      {
       "output_type": "stream",
       "stream": "stdout",
       "text": [
        "1.0 mass\n"
       ]
      }
     ],
     "prompt_number": 10
    },
    {
     "cell_type": "markdown",
     "metadata": {},
     "source": [
      "### ext ###\n",
      "During development of AMUSE we have created several general purpose algorithms that do not fall in any of the above categories. All these are implemented in the modules of the _ext_ package. These algorithms are very diverse and deal with model conversions (from a grid model to particle sets), post-processing (graphing, creating blender models) to handling of special conditions in a model  (sinks and sources). Some of these algorithms will evetually move to the _ic_ or _couple_ modules. We will encounter some _ext_ modules in these tutorials and you will see more use in the examples.\n"
     ]
    },
    {
     "cell_type": "code",
     "collapsed": false,
     "input": [
      "from amuse.ext import grid_to_sph"
     ],
     "language": "python",
     "metadata": {},
     "outputs": [],
     "prompt_number": 11
    },
    {
     "cell_type": "markdown",
     "metadata": {},
     "source": [
      "### all in one ###\n",
      "\n",
      "Most amuse code can be loaded with importing one module, the _lab_ module. AMUSE contains a lot of sub-packages and modules, it is hard too learn and remember all these. We provide one module that imports most code from the other modules, as an easy interface to the AMUSE framework."
     ]
    },
    {
     "cell_type": "code",
     "collapsed": false,
     "input": [
      "from amuse.lab import *\n",
      "print new_plummer_model(10)"
     ],
     "language": "python",
     "metadata": {},
     "outputs": [
      {
       "output_type": "stream",
       "stream": "stdout",
       "text": [
        "                 key         mass       radius           vx           vy           vz            x            y            z\n",
        "                   -         mass       length  length / time  length / time  length / time       length       length       length\n",
        "====================  ===========  ===========  ===========  ===========  ===========  ===========  ===========  ===========\n",
        " 4879582166954988598    1.000e-01    0.000e+00   -2.427e-02   -2.549e-01    4.824e-01    1.601e-01   -5.276e-01    8.357e-02\n",
        " 9447285575351537656    1.000e-01    0.000e+00   -1.077e-01    2.946e-01    4.000e-01   -1.462e+00    6.916e-01   -6.705e-01\n",
        "11090324892853409999    1.000e-01    0.000e+00   -1.130e-01    2.910e-01    2.253e-01    3.219e+00    2.516e+00   -3.056e+00\n",
        " 3494316266081976069    1.000e-01    0.000e+00   -8.016e-01    7.305e-01   -1.642e-01   -1.953e-01   -6.412e-01    1.648e-01\n",
        " 9380189819509163656    1.000e-01    0.000e+00    1.055e-02    1.497e-01   -2.043e-01    8.621e-01    1.080e+00    6.552e-01\n",
        "14722128275749923141    1.000e-01    0.000e+00    4.691e-01   -6.698e-02   -3.871e-01   -5.440e-01   -6.878e-01    8.178e-01\n",
        "16688668889203197691    1.000e-01    0.000e+00    3.574e-02   -6.718e-01   -1.765e-01   -8.739e-03   -1.054e+00    5.346e-01\n",
        " 7362142817187969096    1.000e-01    0.000e+00    7.815e-02   -8.017e-01    1.147e-01   -6.500e-01   -2.076e-01    1.470e-02\n",
        "18286878583873907961    1.000e-01    0.000e+00    4.335e-01   -1.216e-01   -1.873e-01   -9.010e-02   -1.088e+00    1.260e+00\n",
        "10868837862741847349    1.000e-01    0.000e+00    1.950e-02    4.512e-01   -1.029e-01   -1.292e+00   -8.110e-02    1.955e-01\n",
        "====================  ===========  ===========  ===========  ===========  ===========  ===========  ===========  ===========\n"
       ]
      }
     ],
     "prompt_number": 12
    },
    {
     "cell_type": "code",
     "collapsed": false,
     "input": [],
     "language": "python",
     "metadata": {},
     "outputs": []
    }
   ],
   "metadata": {}
  }
 ]
}