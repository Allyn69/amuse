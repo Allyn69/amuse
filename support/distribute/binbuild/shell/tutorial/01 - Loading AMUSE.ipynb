{
 "metadata": {
  "name": "01 - Loading AMUSE"
 },
 "nbformat": 3,
 "nbformat_minor": 0,
 "worksheets": [
  {
   "cells": [
    {
     "cell_type": "markdown",
     "metadata": {},
     "source": [
      "The AMUSE framework is divided over several python packages and modules. All these have one common root module: _amuse_. This root defines the namespace of all sub-packages and modules. You can load the amuse module with:"
     ]
    },
    {
     "cell_type": "code",
     "collapsed": false,
     "input": [
      "import amuse"
     ],
     "language": "python",
     "metadata": {},
     "outputs": [],
     "prompt_number": 2
    },
    {
     "cell_type": "markdown",
     "metadata": {},
     "source": [
      "However the _amuse_ module is mostly empty, as you can see when you try 'Tab' completion on the amuse module or run dir(amuse)"
     ]
    },
    {
     "cell_type": "code",
     "collapsed": false,
     "input": [
      "dir(amuse)"
     ],
     "language": "python",
     "metadata": {},
     "outputs": [
      {
       "output_type": "pyout",
       "prompt_number": 3,
       "text": [
        "['__builtins__',\n",
        " '__doc__',\n",
        " '__file__',\n",
        " '__name__',\n",
        " '__package__',\n",
        " '__path__',\n",
        " 'datamodel',\n",
        " 'io',\n",
        " 'support',\n",
        " 'units']"
       ]
      }
     ],
     "prompt_number": 3
    },
    {
     "cell_type": "markdown",
     "metadata": {},
     "source": [
      "The main body of the AMUSE framework is divided over 4 packages, each subdivided into more packages and modules.\n",
      "\n",
      "### community ###\n",
      "\n",
      "This packages contains all the communtity codes. All software integrated into AMUSE, (N-body, stellar evolution, hydrodynamics and radiative transfer codes) is called a _community_ code in AMUSE. Each community code is defined in a separate sub-package and every sub-package contains at least one module called `interface`. You can load a community code with: `from amuse.community.<codename>.interface import <codeclass>`. In later tutorials we will learn more about the codes and how to interact with each."
     ]
    },
    {
     "cell_type": "code",
     "collapsed": false,
     "input": [
      "from amuse.community.bhtree.interface import BHTree\n",
      "print BHTree"
     ],
     "language": "python",
     "metadata": {},
     "outputs": [
      {
       "output_type": "stream",
       "stream": "stdout",
       "text": [
        "<class 'amuse.community.bhtree.interface.BHTree'>\n"
       ]
      }
     ],
     "prompt_number": 7
    },
    {
     "cell_type": "markdown",
     "metadata": {},
     "source": [
      "### units ###\n",
      "\n",
      "A package to work with quantities and units. All calculations in AMUSE are done with quantities having units. These quantities and their units are implemented as python classes and can be used almost everywere you would normaly use a number (or a `numpy` array). In the next tutorial we will come back to the units, for now we will show a simple example "
     ]
    },
    {
     "cell_type": "code",
     "collapsed": false,
     "input": [
      "from amuse.units import units\n",
      "from amuse.units import constants"
     ],
     "language": "python",
     "metadata": {},
     "outputs": [],
     "prompt_number": 8
    },
    {
     "cell_type": "code",
     "collapsed": false,
     "input": [
      "constants.G * ( 5.972e24 | units.kg) /  (6378.1 | units.km )**2"
     ],
     "language": "python",
     "metadata": {},
     "outputs": [
      {
       "output_type": "pyout",
       "prompt_number": 9,
       "text": [
        "quantity<9.7980933561 m * s**-2>"
       ]
      }
     ],
     "prompt_number": 9
    },
    {
     "cell_type": "markdown",
     "metadata": {},
     "source": [
      "### datamodel ###\n",
      "\n",
      "All astrophysical bodies (stars, clouds, planets etc) are modelled with sets of particles or on grids. These sets and grids are defined in the _datamodel_ package. You will see these used everywhere in amuse and in several tutorials we will cover them in more detail. "
     ]
    },
    {
     "cell_type": "code",
     "collapsed": false,
     "input": [
      "from amuse.datamodel import Particles\n",
      "solar_system_planets = Particles(7)\n",
      "solar_system_planets.mass = [641.85, 4868.5, 5973.6, 102430, 86832, 568460, 1898600] | (1e21 * units.kg)\n",
      "print solar_system_planets"
     ],
     "language": "python",
     "metadata": {},
     "outputs": [
      {
       "output_type": "stream",
       "stream": "stdout",
       "text": [
        "                 key         mass\n",
        "                   -   1e+21 * kg\n",
        "====================  ===========\n",
        " 9765500099118060099    6.419e+02\n",
        " 6113281019374531741    4.868e+03\n",
        " 2723576399039363632    5.974e+03\n",
        "14501428505874144293    1.024e+05\n",
        " 1055363332338257733    8.683e+04\n",
        "17793986086916992921    5.685e+05\n",
        "17962922637992667076    1.899e+06\n",
        "====================  ===========\n"
       ]
      }
     ],
     "prompt_number": 10
    },
    {
     "cell_type": "markdown",
     "metadata": {},
     "source": [
      "### rfi ###\n",
      "\n",
      "The AMUSE framework is written in Python, most codes are written in C or Fortran. In AMUSE the Remote Function Invocation or _rfi_ package implements all classes and tools to call functions on the community codes. The _rfi_ package implements support for communicating over MPI, raw sockets and Ibis. This code is mainly used internally to the framework and in most scripts you will not see it, but you will be using it!"
     ]
    },
    {
     "cell_type": "code",
     "collapsed": false,
     "input": [
      "from amuse.rfi.channel import is_mpd_running\n",
      "print is_mpd_running()"
     ],
     "language": "python",
     "metadata": {},
     "outputs": [
      {
       "output_type": "stream",
       "stream": "stdout",
       "text": [
        "True\n"
       ]
      }
     ],
     "prompt_number": 11
    },
    {
     "cell_type": "markdown",
     "metadata": {},
     "source": [
      "### couple ###\n",
      "\n",
      "Eventually you will want to connect different codes to simulate a coupled problem. As AMUSE is written in Python, you can easily write your own coupling strategy but in most cases you do not need to do this. This package contains several predefined coupling strategies, two of which we will cover in a later tutorial."
     ]
    },
    {
     "cell_type": "code",
     "collapsed": false,
     "input": [
      "from amuse.couple import bridge"
     ],
     "language": "python",
     "metadata": {},
     "outputs": [],
     "prompt_number": 12
    },
    {
     "cell_type": "markdown",
     "metadata": {},
     "source": [
      "### io ###\n",
      "\n",
      "Saving and loading models is an important feature in AMUSE. AMUSE defines it's own format and supports a number of common file formats often used in astro-physical codes. All saving all loading is supported through two functions: *(this example depends on the datamodel example earlier on this page, if you get a NameError please rerun that cell)*"
     ]
    },
    {
     "cell_type": "code",
     "collapsed": false,
     "input": [
      "from amuse import io\n",
      "io.write_set_to_file(solar_system_planets, \"solar.hdf5\")\n",
      "print io.read_set_from_file(\"solar.hdf5\")\n"
     ],
     "language": "python",
     "metadata": {},
     "outputs": [
      {
       "output_type": "stream",
       "stream": "stdout",
       "text": [
        "                 key         mass\n",
        "                   -   1e+21 * kg\n",
        "====================  ===========\n",
        "17317600366734322957    6.419e+02\n",
        " 4232187099754748211    4.868e+03\n",
        " 7705081044345524453    5.974e+03\n",
        "13246074262631806157    1.024e+05\n",
        "17476839227400895458    8.683e+04\n",
        " 3162365839736491936    5.685e+05\n",
        " 6722288984154717077    1.899e+06\n",
        "====================  ===========\n"
       ]
      }
     ],
     "prompt_number": 13
    },
    {
     "cell_type": "markdown",
     "metadata": {},
     "source": [
      "### ic ###\n",
      "The Initial Conditions _ic_ package provides a small set of often used algorithms to create an initial particle set or grid. The current set of supported algorithms is small but provides good examples for further extension. "
     ]
    },
    {
     "cell_type": "code",
     "collapsed": false,
     "input": [
      "from amuse.ic import plummer\n",
      "particles = plummer.new_plummer_model(25)\n",
      "print particles.mass.sum()"
     ],
     "language": "python",
     "metadata": {},
     "outputs": [
      {
       "output_type": "stream",
       "stream": "stdout",
       "text": [
        "1.0 mass\n"
       ]
      }
     ],
     "prompt_number": 14
    },
    {
     "cell_type": "markdown",
     "metadata": {},
     "source": [
      "### ext ###\n",
      "During development of AMUSE we have created several general purpose algorithms that do not fall in any of the above categories. All these are implemented in the modules of the _ext_ package. These algorithms are very diverse and deal with model conversions (from a grid model to particle sets), post-processing (graphing, creating blender models) to handling of special conditions in a model  (sinks and sources). Some of these algorithms will evetually move to the _ic_ or _couple_ modules. We will encounter some _ext_ modules in these tutorials and you will see more use in the examples.\n"
     ]
    },
    {
     "cell_type": "code",
     "collapsed": false,
     "input": [
      "from amuse.ext import grid_to_sph"
     ],
     "language": "python",
     "metadata": {},
     "outputs": [],
     "prompt_number": 15
    },
    {
     "cell_type": "markdown",
     "metadata": {},
     "source": [
      "### all in one ###\n",
      "\n",
      "Most amuse code can be loaded with importing one module, the _lab_ module. AMUSE contains a lot of sub-packages and modules, it is hard too learn and remember all these. We provide one module that imports most code from the other modules, as an easy interface to the AMUSE framework."
     ]
    },
    {
     "cell_type": "code",
     "collapsed": false,
     "input": [
      "from amuse.lab import *\n",
      "print new_plummer_model(10)"
     ],
     "language": "python",
     "metadata": {},
     "outputs": [
      {
       "output_type": "stream",
       "stream": "stdout",
       "text": [
        "                 key         mass       radius           vx           vy           vz            x            y            z\n",
        "                   -         mass       length  length / time  length / time  length / time       length       length       length\n",
        "====================  ===========  ===========  ===========  ===========  ===========  ===========  ===========  ===========\n",
        "  814540125200859280    1.000e-01    0.000e+00    3.814e-03   -3.399e-01    1.933e-01   -9.637e-01   -1.588e+00   -2.804e-01\n",
        "  707406943019952399    1.000e-01    0.000e+00   -3.275e-01    9.329e-01    2.563e-01   -3.015e-02   -3.791e-02    2.946e-01\n",
        " 7627046085463221872    1.000e-01    0.000e+00   -2.116e-01   -1.511e-01   -9.543e-02    1.683e+00   -6.265e-02    6.252e-04\n",
        " 6629886220096645337    1.000e-01    0.000e+00    1.599e-01    1.908e-01   -2.850e-03    1.150e-02    2.357e-01   -6.890e-01\n",
        "16007165162842420224    1.000e-01    0.000e+00    2.197e-01    1.887e-01    3.614e-01    1.219e+00    2.300e+00    2.036e+00\n",
        " 6219381033498704265    1.000e-01    0.000e+00    4.910e-01   -4.871e-02   -4.489e-01   -6.776e-01   -4.139e-01   -2.110e-01\n",
        " 2837132829549752231    1.000e-01    0.000e+00    1.691e-01    4.619e-02   -5.046e-01    1.298e-01   -1.210e+00   -8.190e-01\n",
        " 3326250368739061275    1.000e-01    0.000e+00    8.406e-02   -7.393e-01   -2.309e-01   -3.748e-01    9.100e-01    3.719e-01\n",
        " 1334741969291808888    1.000e-01    0.000e+00   -5.474e-01   -8.657e-02   -1.327e-01   -8.779e-01    1.095e-01   -9.178e-01\n",
        " 1609678916039744980    1.000e-01    0.000e+00   -4.095e-02    6.954e-03    6.043e-01   -1.186e-01   -2.432e-01    2.137e-01\n",
        "====================  ===========  ===========  ===========  ===========  ===========  ===========  ===========  ===========\n"
       ]
      }
     ],
     "prompt_number": 16
    },
    {
     "cell_type": "code",
     "collapsed": false,
     "input": [],
     "language": "python",
     "metadata": {},
     "outputs": []
    }
   ],
   "metadata": {}
  }
 ]
}