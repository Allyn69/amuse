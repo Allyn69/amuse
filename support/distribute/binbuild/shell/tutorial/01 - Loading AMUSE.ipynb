{
 "metadata": {
  "name": "01 - Loading AMUSE"
 },
 "nbformat": 3,
 "nbformat_minor": 0,
 "worksheets": [
  {
   "cells": [
    {
     "cell_type": "markdown",
     "metadata": {},
     "source": [
      "The AMUSE framework is divided over several python packages and modules. All these have one common root module: _amuse_. This root defines the namespace of all sub-packages and modules. You can load the amuse module with:"
     ]
    },
    {
     "cell_type": "code",
     "collapsed": false,
     "input": [
      "import amuse"
     ],
     "language": "python",
     "metadata": {},
     "outputs": [],
     "prompt_number": 1
    },
    {
     "cell_type": "markdown",
     "metadata": {},
     "source": [
      "However the _amuse_ module is mostly empty, as you can see when you try 'Tab' completion on the amuse module or run dir(amuse)"
     ]
    },
    {
     "cell_type": "code",
     "collapsed": false,
     "input": [
      "dir(amuse)"
     ],
     "language": "python",
     "metadata": {},
     "outputs": [
      {
       "output_type": "pyout",
       "prompt_number": 3,
       "text": [
        "['__builtins__', '__doc__', '__file__', '__name__', '__package__', '__path__']"
       ]
      },
      {
       "output_type": "stream",
       "stream": "stdout",
       "text": [
        "\n",
        "Caching the list of root modules, please wait!\n",
        "(This will only be done once - type '%rehashx' to reset cache!)\n",
        "\n"
       ]
      }
     ],
     "prompt_number": 3
    },
    {
     "cell_type": "markdown",
     "metadata": {},
     "source": [
      "The main body of the AMUSE framework is divided over 4 packages, each having subdivided into more packages and modules.\n",
      "\n",
      "### community ###\n",
      "\n",
      "This packages contains all the communtity codes. All software integrated into AMUSE, (N-body, stellar evolution, hydrodynamics and radiative transfer codes) is called _community_ code in AMUSE. Each community code is defined in a separate sub-package and every sub-package contains at least one module called `interface`. You can load a community code with: `from amuse.community.<codename>.interface import <codeclass>`. In later tutorials we will learn more about the codes and how to interact with each."
     ]
    },
    {
     "cell_type": "code",
     "collapsed": false,
     "input": [
      "from amuse.community.bhtree.interface import BHTree\n",
      "BHTree"
     ],
     "language": "python",
     "metadata": {},
     "outputs": [
      {
       "output_type": "pyout",
       "prompt_number": 4,
       "text": [
        "amuse.community.bhtree.interface.BHTree"
       ]
      }
     ],
     "prompt_number": 4
    },
    {
     "cell_type": "markdown",
     "metadata": {},
     "source": [
      "### units ###\n",
      "\n",
      "A package to work with quantities and units. All calculations in AMUSE are done with quantities having units. These quantities and their units are implemented as python classes and can be used almost everywere you would normaly use a number (or a `numpy` array). In the next tutorial we will come back to the units, for now we will show a simple example "
     ]
    },
    {
     "cell_type": "code",
     "collapsed": false,
     "input": [
      "from amuse.units import units\n",
      "from amuse.units import constants"
     ],
     "language": "python",
     "metadata": {},
     "outputs": [],
     "prompt_number": 4
    },
    {
     "cell_type": "code",
     "collapsed": false,
     "input": [
      "constants.G * ( 5.972e24 | units.kg) /  (6378.1 | units.km )**2"
     ],
     "language": "python",
     "metadata": {},
     "outputs": [
      {
       "output_type": "pyout",
       "prompt_number": 5,
       "text": [
        "quantity<9798093.3561 1e-06 * m * s**-2>"
       ]
      }
     ],
     "prompt_number": 5
    },
    {
     "cell_type": "markdown",
     "metadata": {},
     "source": [
      "### datamodel ###\n",
      "\n",
      "All astrophysical bodies (stars, clouds, planets etc) are modelled with sets of particles or on grids. These sets and grids are defined in the _datamodel_ package. You will see these used everywhere in amuse and several tutorial cover them in more detail. "
     ]
    },
    {
     "cell_type": "code",
     "collapsed": false,
     "input": [
      "from amuse.datamodel import Particles\n",
      "solar_system_planets = Particles(7)\n",
      "solar_system_planets.mass = [641.85, 4868.5, 5973.6, 102430, 86832, 568460, 1898600] | (1e21 * units.kg)\n",
      "print solar_system_planets"
     ],
     "language": "python",
     "metadata": {},
     "outputs": [
      {
       "output_type": "stream",
       "stream": "stdout",
       "text": [
        "                 key         mass\n",
        "                   -   1e+21 * kg\n",
        "====================  ===========\n",
        " 6907843901127846159    6.419e+02\n",
        "13442000735836041465    4.868e+03\n",
        "16857315092427321318    5.974e+03\n",
        "10606635992166167585    1.024e+05\n",
        "12229539774434658895    8.683e+04\n",
        "   76488092268372767    5.685e+05\n",
        "  235542655449157832    1.899e+06\n",
        "====================  ===========\n"
       ]
      }
     ],
     "prompt_number": 6
    },
    {
     "cell_type": "markdown",
     "metadata": {},
     "source": [
      "### rfi ###\n",
      "\n",
      "The AMUSE framework is written in Python, most codes are written in C or Fortran. In AMUSE the Remote Function Invocation or _rfi_ package implements all classes and tools to call functions on the community codes. The _rfi_ package implements support for communicating over MPI, raw sockets and Ibis. This code is mainly used internally to the framework and in most scripts you will not see it, but you will use it!"
     ]
    },
    {
     "cell_type": "code",
     "collapsed": false,
     "input": [
      "from amuse.rfi.channel import is_mpd_running\n",
      "print is_mpd_running()"
     ],
     "language": "python",
     "metadata": {},
     "outputs": [
      {
       "output_type": "stream",
       "stream": "stdout",
       "text": [
        "True\n"
       ]
      }
     ],
     "prompt_number": 7
    },
    {
     "cell_type": "markdown",
     "metadata": {},
     "source": [
      "### couple ###\n",
      "\n",
      "Eventually you will want to connect different codes to simulate a coupled problem. As AMUSE is written in Python, you can easily write your own coupling strategy but in most cases you do not need to do this. This package contains several predefined coupling strategies, two of which we will cover in a later tutorial."
     ]
    },
    {
     "cell_type": "code",
     "collapsed": false,
     "input": [
      "from amuse.couple import bridge"
     ],
     "language": "python",
     "metadata": {},
     "outputs": [],
     "prompt_number": 8
    },
    {
     "cell_type": "markdown",
     "metadata": {},
     "source": [
      "### io ###\n",
      "\n",
      "Saving and loading models is an important feature in AMUSE. AMUSE defines it's own format and supports a number of common file formats often used in astro-physical codes. All saving all loading is supported through two functions:"
     ]
    },
    {
     "cell_type": "code",
     "collapsed": false,
     "input": [
      "from amuse import io\n",
      "io.write_set_to_file(solar_system_planets, \"solar.hdf5\")\n",
      "print io.read_set_from_file(\"solar.hdf5\")\n"
     ],
     "language": "python",
     "metadata": {},
     "outputs": [
      {
       "output_type": "stream",
       "stream": "stdout",
       "text": [
        "                 key         mass\n",
        "                   -   1e+21 * kg\n",
        "====================  ===========\n",
        "15650984647000435574    6.419e+02\n",
        " 2985964597405444882    4.868e+03\n",
        "14119308195389326442    5.974e+03\n",
        "15318329677572489218    1.024e+05\n",
        "13191797986758709348    8.683e+04\n",
        " 1317410716838660874    5.685e+05\n",
        "10724876567061020553    1.899e+06\n",
        "====================  ===========\n"
       ]
      }
     ],
     "prompt_number": 9
    },
    {
     "cell_type": "markdown",
     "metadata": {},
     "source": [
      "### ic ###\n",
      "The Initial Conditions _ic_ package provides a small set of often used algorithms to create an initial particle set or grid. The current set of supported algorithms is small but provides good examples for further extension. "
     ]
    },
    {
     "cell_type": "code",
     "collapsed": false,
     "input": [
      "from amuse.ic import plummer\n",
      "particles = plummer.new_plummer_model(25)\n",
      "print particles.mass.sum()"
     ],
     "language": "python",
     "metadata": {},
     "outputs": [
      {
       "output_type": "stream",
       "stream": "stdout",
       "text": [
        "1.0 mass\n"
       ]
      }
     ],
     "prompt_number": 10
    },
    {
     "cell_type": "markdown",
     "metadata": {},
     "source": [
      "### ext ###\n",
      "During development of AMUSE we have created several general purpose algorithms that do not fall in any of the above categories. All these are implemented in the modules of the _ext_ package. These algorithms are very diverse and deal with model conversions (from a grid model to particle sets), post-processing (graphing, creating blender models) to special condition handling (sinks and sources). Some of these algorithms will evetually move to the _ic_ or _couple_ modules. We will encounter some _ext_ modules in these tutorials and you will see more use in the examples.\n"
     ]
    },
    {
     "cell_type": "code",
     "collapsed": false,
     "input": [
      "from amuse.ext import grid_to_sph\n"
     ],
     "language": "python",
     "metadata": {},
     "outputs": [],
     "prompt_number": 11
    },
    {
     "cell_type": "markdown",
     "metadata": {},
     "source": [
      "### all in one ###\n",
      "\n",
      "Most amuse code can be loaded with importing one module, the _lab_ module. AMUSE contains a lot of sub-packages and modules, it is hard too learn and remember all these. We provide one module that imports most code from the other modules, as an easy interface to the AMUSE framework."
     ]
    },
    {
     "cell_type": "code",
     "collapsed": false,
     "input": [
      "from amuse.lab import *\n",
      "print new_plummer_model(10)"
     ],
     "language": "python",
     "metadata": {},
     "outputs": [
      {
       "output_type": "stream",
       "stream": "stdout",
       "text": [
        "                 key         mass       radius           vx           vy           vz            x            y            z\n",
        "                   -         mass       length  length / time  length / time  length / time       length       length       length\n",
        "====================  ===========  ===========  ===========  ===========  ===========  ===========  ===========  ===========\n",
        "14226898462260681485    1.000e-01    0.000e+00    1.952e-01    2.450e-01   -1.329e-01   -1.241e-01    4.578e-01   -3.402e-01\n",
        " 3215218220990457404    1.000e-01    0.000e+00    2.569e-01    1.043e-01   -2.496e-01   -7.046e-03   -6.930e-01   -1.417e-01\n",
        " 8019257673968962989    1.000e-01    0.000e+00   -2.373e-01    3.188e-01   -1.020e-01   -1.960e-01    4.491e-01   -5.128e-01\n",
        "  961730262880831306    1.000e-01    0.000e+00    2.954e-01   -2.032e-01   -2.648e-01   -3.870e-01   -3.642e-01   -1.355e-01\n",
        "11933617142995274456    1.000e-01    0.000e+00   -8.144e-02   -3.831e-01   -4.770e-01   -1.575e-01   -2.354e-01   -5.149e-03\n",
        "17451940204214209381    1.000e-01    0.000e+00   -7.545e-02   -1.556e-01    3.364e-01   -3.496e-01    4.491e-02   -3.464e-03\n",
        "13546988012879866462    1.000e-01    0.000e+00   -4.194e-01    8.356e-02   -3.574e-01    2.627e-01   -2.328e-01   -3.669e-01\n",
        "15807614485352917827    1.000e-01    0.000e+00   -4.998e-02    1.948e-01    4.501e-01    1.229e+00    7.691e-01    1.971e+00\n",
        "14503975859725956164    1.000e-01    0.000e+00    1.820e-01    9.434e-02    2.120e-02   -3.207e-03   -1.377e-01   -2.316e-01\n",
        "13006577483073404941    1.000e-01    0.000e+00   -6.599e-02   -2.990e-01    7.761e-01   -2.668e-01   -5.791e-02   -2.336e-01\n",
        "====================  ===========  ===========  ===========  ===========  ===========  ===========  ===========  ===========\n"
       ]
      }
     ],
     "prompt_number": 12
    }
   ],
   "metadata": {}
  }
 ]
}