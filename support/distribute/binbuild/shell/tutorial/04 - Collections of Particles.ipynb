{
 "metadata": {
  "name": "04 - Collections of Particles"
 },
 "nbformat": 3,
 "nbformat_minor": 0,
 "worksheets": [
  {
   "cells": [
    {
     "cell_type": "markdown",
     "metadata": {},
     "source": [
      "In amuse we mostly work with one or multiple collections of particles. These collections can be thought of as tables were each particle is represented by a row in the table:\n",
      "\n",
      "<table>\n",
      "    <tr>\n",
      "        <th>Particle</th>\n",
      "        <th>mass</th>\n",
      "        <th>radius</th>\n",
      "    </tr>\n",
      "    <tr>\n",
      "        <td>1</td>\n",
      "        <td>10.0</td>\n",
      "        <td>3.5</td>\n",
      "    </tr>\n",
      "    <tr>\n",
      "        <td>2</td>\n",
      "        <td>4.0</td>\n",
      "        <td>1</td>\n",
      "    </tr>\n",
      "</table>\n",
      "\n",
      "\n",
      "<p style=\"background-color: lightyellow\">\n",
      "<em>Background:</em> AMUSE is optimized to work with columns in the particle collections, each column represents an attribute of the particles in the collection (in the above table the particle collection stores the masses and raddii of the particles). Instead of looping through the particle set we run a function on one or more columns of the set. These functions are often numpy functions and optimized in C, so much faster than looping in python. This will take some time to get used to but often results in more compact Python code that will be easier to understand.\n",
      "</p>\n",
      "\n"
     ]
    },
    {
     "cell_type": "code",
     "collapsed": false,
     "input": [
      "from amuse.lab import *"
     ],
     "language": "python",
     "metadata": {},
     "outputs": [],
     "prompt_number": 1
    },
    {
     "cell_type": "markdown",
     "metadata": {},
     "source": [
      "If you know how many particles you want, you can create a collection of particles by specifying the size of the collection. AMUSE will create a set of particles were each particle has a unique 128-bit key. Except for the key, the particles will not have any attributes."
     ]
    },
    {
     "cell_type": "code",
     "collapsed": false,
     "input": [
      "planets = Particles(7)\n",
      "print planets"
     ],
     "language": "python",
     "metadata": {},
     "outputs": [
      {
       "output_type": "stream",
       "stream": "stdout",
       "text": [
        "                 key\n",
        "                   -\n",
        "====================\n",
        "12434893611580679379\n",
        "12207674251233298722\n",
        "10410685062425357532\n",
        "16693750592190670704\n",
        " 1977406218602993755\n",
        " 5299465889796584055\n",
        "15248449464144212673\n",
        "====================\n"
       ]
      }
     ],
     "prompt_number": 2
    },
    {
     "cell_type": "markdown",
     "metadata": {},
     "source": [
      "The `planets` collection is not very useful yet, it only contains a set of empty particles. We can make it more interesting by specifying a mass and radius."
     ]
    },
    {
     "cell_type": "code",
     "collapsed": false,
     "input": [
      "planets.mass = [641.85, 4868.5, 5973.6, 102430, 86832, 568460, 1898600] | (1e21 * units.kg)\n",
      "planets.radius =  [0.532, 0.950, 1, 3.86, 3.98, 9.14, 10.97] | (6384 * units.km)\n",
      "print planets"
     ],
     "language": "python",
     "metadata": {},
     "outputs": [
      {
       "output_type": "stream",
       "stream": "stdout",
       "text": [
        "                 key         mass       radius\n",
        "                   -   1e+21 * kg    6384 * km\n",
        "====================  ===========  ===========\n",
        "12434893611580679379    6.419e+02    5.320e-01\n",
        "12207674251233298722    4.868e+03    9.500e-01\n",
        "10410685062425357532    5.974e+03    1.000e+00\n",
        "16693750592190670704    1.024e+05    3.860e+00\n",
        " 1977406218602993755    8.683e+04    3.980e+00\n",
        " 5299465889796584055    5.685e+05    9.140e+00\n",
        "15248449464144212673    1.899e+06    1.097e+01\n",
        "====================  ===========  ===========\n"
       ]
      }
     ],
     "prompt_number": 3
    },
    {
     "cell_type": "markdown",
     "metadata": {},
     "source": [
      "The above example shows one of the dynamic properties of a particle collection, you can define a new attribute for all particles by assigning a value to the an attribute name. AMUSE does not limit the names, except these have to be valid python attribute names. \n",
      "\n",
      "It is easy to specify the same value for all attributes: "
     ]
    },
    {
     "cell_type": "code",
     "collapsed": false,
     "input": [
      "planets.density = 1000.0 | units.kg / units.m**3\n",
      "print planets"
     ],
     "language": "python",
     "metadata": {},
     "outputs": [
      {
       "output_type": "stream",
       "stream": "stdout",
       "text": [
        "                 key      density         mass       radius\n",
        "                   -  kg / (m**3)   1e+21 * kg    6384 * km\n",
        "====================  ===========  ===========  ===========\n",
        " 2761628765627519219    1.000e+03    6.419e+02    5.320e-01\n",
        "16641741092511614855    1.000e+03    4.868e+03    9.500e-01\n",
        "16148268943674287547    1.000e+03    5.974e+03    1.000e+00\n",
        "14703393978716848347    1.000e+03    1.024e+05    3.860e+00\n",
        " 2259190503163427225    1.000e+03    8.683e+04    3.980e+00\n",
        "  210478630355384021    1.000e+03    5.685e+05    9.140e+00\n",
        "12379863303306135071    1.000e+03    1.899e+06    1.097e+01\n",
        "====================  ===========  ===========  ===========\n"
       ]
      }
     ],
     "prompt_number": 4
    },
    {
     "cell_type": "markdown",
     "metadata": {},
     "source": [
      "Or request the value of an attribute for all particles:"
     ]
    },
    {
     "cell_type": "code",
     "collapsed": false,
     "input": [
      "print planets.mass"
     ],
     "language": "python",
     "metadata": {},
     "outputs": [
      {
       "output_type": "stream",
       "stream": "stdout",
       "text": [
        "[6.4185e+23, 4.8685e+24, 5.9736e+24, 1.0243e+26, 8.6832e+25, 5.6846e+26, 1.8986e+27] kg\n"
       ]
      }
     ],
     "prompt_number": 5
    },
    {
     "cell_type": "markdown",
     "metadata": {},
     "source": [
      "We can calculate the density instead of just setting to the same value for all particles."
     ]
    },
    {
     "cell_type": "code",
     "collapsed": false,
     "input": [
      "planets.volume = 4.0 / 3.0 * pi * planets.radius**3\n",
      "planets.density = planets.mass /  planets.volume\n",
      "print planets"
     ],
     "language": "python",
     "metadata": {},
     "outputs": [
      {
       "output_type": "stream",
       "stream": "stdout",
       "text": [
        "\n",
        "                 key      density         mass       radius       volume\n",
        "                   -  3.84345114455 * kg * m**-3   1e+21 * kg    6384 * km  2.60182831104e+20 * m**3\n",
        "====================  ===========  ===========  ===========  ===========\n",
        "12434893611580679379    1.018e+03    6.419e+02    5.320e-01    6.307e-01\n",
        "12207674251233298722    1.356e+03    4.868e+03    9.500e-01    3.591e+00\n",
        "10410685062425357532    1.426e+03    5.974e+03    1.000e+00    4.189e+00\n",
        "16693750592190670704    4.252e+02    1.024e+05    3.860e+00    2.409e+02\n",
        " 1977406218602993755    3.288e+02    8.683e+04    3.980e+00    2.641e+02\n",
        " 5299465889796584055    1.777e+02    5.685e+05    9.140e+00    3.198e+03\n",
        "15248449464144212673    3.433e+02    1.899e+06    1.097e+01    5.530e+03\n",
        "====================  ===========  ===========  ===========  ===========\n"
       ]
      }
     ],
     "prompt_number": 5
    },
    {
     "cell_type": "markdown",
     "metadata": {},
     "source": [
      "If you request an attribute of a particle collection, AMUSE will return a vector quantity. You can do several operations on these vectors:"
     ]
    },
    {
     "cell_type": "code",
     "collapsed": false,
     "input": [
      "print \"Total mass of the planets:\", planets.mass.sum()\n",
      "print \"Mean density of the planets:\", planets.density.mean()"
     ],
     "language": "python",
     "metadata": {},
     "outputs": [
      {
       "output_type": "stream",
       "stream": "stdout",
       "text": [
        "Total mass of the planets: 2.66780595e+27 kg\n",
        "Mean density of the planets: 2786.19955417 kg * m**-3\n"
       ]
      }
     ],
     "prompt_number": 6
    },
    {
     "cell_type": "markdown",
     "metadata": {},
     "source": [
      "Ofcourse, you can also work with one particle in the set. This works the same as it does for python lists, but instead of an object stored in the list you will get a Particle object that points to the correct row in the particle collection. All changes made on the particle will be reflected in the collection."
     ]
    },
    {
     "cell_type": "code",
     "collapsed": false,
     "input": [
      "earth = planets[2]\n",
      "print earth\n",
      "\n",
      "earth.density = 5.52 | units.g/units.cm**3\n",
      "print planets"
     ],
     "language": "python",
     "metadata": {},
     "outputs": [
      {
       "output_type": "stream",
       "stream": "stdout",
       "text": [
        "Particle(16148268943674287547, density=5481.11474546 kg * m**-3, mass=5.9736e+24 kg, radius=6384000.0 m, volume=1.08985129438e+21 m**3)\n",
        "                 key      density         mass       radius       volume\n",
        "                   -  kg / (m**3)   1e+21 * kg    6384 * km  2.60182831104e+20 * m**3\n",
        "====================  ===========  ===========  ===========  ===========\n",
        " 2761628765627519219    3.911e+03    6.419e+02    5.320e-01    6.307e-01\n",
        "16641741092511614855    5.210e+03    4.868e+03    9.500e-01    3.591e+00\n",
        "16148268943674287547    5.520e+03    5.974e+03    1.000e+00    4.189e+00\n",
        "14703393978716848347    1.634e+03    1.024e+05    3.860e+00    2.409e+02\n",
        " 2259190503163427225    1.264e+03    8.683e+04    3.980e+00    2.641e+02\n",
        "  210478630355384021    6.831e+02    5.685e+05    9.140e+00    3.198e+03\n",
        "12379863303306135071    1.320e+03    1.899e+06    1.097e+01    5.530e+03\n",
        "====================  ===========  ===========  ===========  ===========\n"
       ]
      }
     ],
     "prompt_number": 8
    },
    {
     "cell_type": "markdown",
     "metadata": {},
     "source": [
      "As the particle is just a pointer into the particle collection, adding a new attribute to a particle will also add a new attribute to the collection, AMUSE will set the value of this new attribute to zero (0.0) for all other particles in the set"
     ]
    },
    {
     "cell_type": "code",
     "collapsed": false,
     "input": [
      "earth.population = 6973738433\n",
      "\n",
      "print planets"
     ],
     "language": "python",
     "metadata": {},
     "outputs": [
      {
       "output_type": "stream",
       "stream": "stdout",
       "text": [
        "                 key      density         mass   population       radius       volume\n",
        "                   -  kg / (m**3)   1e+21 * kg         none    6384 * km  2.60182831104e+20 * m**3\n",
        "====================  ===========  ===========  ===========  ===========  ===========\n",
        " 2761628765627519219    3.911e+03    6.419e+02            0    5.320e-01    6.307e-01\n",
        "16641741092511614855    5.210e+03    4.868e+03            0    9.500e-01    3.591e+00\n",
        "16148268943674287547    5.520e+03    5.974e+03   6973738433    1.000e+00    4.189e+00\n",
        "14703393978716848347    1.634e+03    1.024e+05            0    3.860e+00    2.409e+02\n",
        " 2259190503163427225    1.264e+03    8.683e+04            0    3.980e+00    2.641e+02\n",
        "  210478630355384021    6.831e+02    5.685e+05            0    9.140e+00    3.198e+03\n",
        "12379863303306135071    1.320e+03    1.899e+06            0    1.097e+01    5.530e+03\n",
        "====================  ===========  ===========  ===========  ===========  ===========\n"
       ]
      }
     ],
     "prompt_number": 9
    },
    {
     "cell_type": "markdown",
     "metadata": {},
     "source": [
      "Finally, you can also create single particles and add these to a particle collection. (A single particle created like this points to a particle collection with only one particle in it)."
     ]
    },
    {
     "cell_type": "code",
     "collapsed": false,
     "input": [
      "pluto = Particle(mass = 1.305 | units.kg, radius = 1153 | units.km)\n",
      "planets.add_particle(pluto)\n",
      "print planets"
     ],
     "language": "python",
     "metadata": {},
     "outputs": [
      {
       "output_type": "stream",
       "stream": "stdout",
       "text": [
        "                 key      density         mass   population       radius       volume\n",
        "                   -  kg / (m**3)   1e+21 * kg         none    6384 * km  2.60182831104e+20 * m**3\n",
        "====================  ===========  ===========  ===========  ===========  ===========\n",
        " 2761628765627519219    3.911e+03    6.419e+02            0    5.320e-01    6.307e-01\n",
        "16641741092511614855    5.210e+03    4.868e+03            0    9.500e-01    3.591e+00\n",
        "16148268943674287547    5.520e+03    5.974e+03   6973738433    1.000e+00    4.189e+00\n",
        "14703393978716848347    1.634e+03    1.024e+05            0    3.860e+00    2.409e+02\n",
        " 2259190503163427225    1.264e+03    8.683e+04            0    3.980e+00    2.641e+02\n",
        "  210478630355384021    6.831e+02    5.685e+05            0    9.140e+00    3.198e+03\n",
        "12379863303306135071    1.320e+03    1.899e+06            0    1.097e+01    5.530e+03\n",
        " 9685766480802021023    0.000e+00    1.305e-21            0    1.806e-01    0.000e+00\n",
        "====================  ===========  ===========  ===========  ===========  ===========\n"
       ]
      }
     ],
     "prompt_number": 10
    },
    {
     "cell_type": "markdown",
     "metadata": {},
     "source": [
      "\n"
     ]
    },
    {
     "cell_type": "markdown",
     "metadata": {},
     "source": [
      "A particle collection can represent sets of many different kinds of astrophysical bodies (planets, stars, dark matter, smoothed hydrodynamics particles, etc.). The type of particles in a collection is determined by the attributes (stars may have different attributes than planets) and how you use the set.\n",
      "Putting different kinds of particles in a set is possible, but in those cases some attributes will have valid values and some will be zero (for example if you would add the sun with it's luminocity to this this table. In practice, we recommend you put one kind of particle in a set (for example have a different set for stars, gas clouds and dark matter particles)"
     ]
    },
    {
     "cell_type": "code",
     "collapsed": false,
     "input": [
      "sun = Particle(mass = 1 | units.MSun, radius = 1 | units.RSun, luminosity = 1 | units.LSun)\n",
      "planets.add_particle(sun)\n",
      "print planets"
     ],
     "language": "python",
     "metadata": {},
     "outputs": [
      {
       "output_type": "stream",
       "stream": "stdout",
       "text": [
        "                 key      density   luminosity         mass   population       radius       volume\n",
        "                   -  kg / (m**3)         LSun   1e+21 * kg         none    6384 * km  2.60182831104e+20 * m**3\n",
        "====================  ===========  ===========  ===========  ===========  ===========  ===========\n",
        " 2761628765627519219    3.911e+03    0.000e+00    6.419e+02            0    5.320e-01    6.307e-01\n",
        "16641741092511614855    5.210e+03    0.000e+00    4.868e+03            0    9.500e-01    3.591e+00\n",
        "16148268943674287547    5.520e+03    0.000e+00    5.974e+03   6973738433    1.000e+00    4.189e+00\n",
        "14703393978716848347    1.634e+03    0.000e+00    1.024e+05            0    3.860e+00    2.409e+02\n",
        " 2259190503163427225    1.264e+03    0.000e+00    8.683e+04            0    3.980e+00    2.641e+02\n",
        "  210478630355384021    6.831e+02    0.000e+00    5.685e+05            0    9.140e+00    3.198e+03\n",
        "12379863303306135071    1.320e+03    0.000e+00    1.899e+06            0    1.097e+01    5.530e+03\n",
        " 9685766480802021023    0.000e+00    0.000e+00    1.305e-21            0    1.806e-01    0.000e+00\n",
        " 4481628549931612329    0.000e+00    1.000e+00    1.989e+09            0    1.089e+02    0.000e+00\n",
        "====================  ===========  ===========  ===========  ===========  ===========  ===========\n"
       ]
      }
     ],
     "prompt_number": 11
    }
   ],
   "metadata": {}
  }
 ]
}