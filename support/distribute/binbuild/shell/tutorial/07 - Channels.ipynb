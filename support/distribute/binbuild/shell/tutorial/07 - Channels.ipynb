{
 "metadata": {
  "name": "07 - Channels"
 },
 "nbformat": 3,
 "nbformat_minor": 0,
 "worksheets": [
  {
   "cells": [
    {
     "cell_type": "markdown",
     "metadata": {},
     "source": [
      "Part of interaction between codes in AMUSE is based on exchanging data between these codes or exchanging data between the codes and AMUSE. As you might have noticed in the pervious tutorial topic, every code provides access to particle collections or grids. The data of these collections or grids *live* inside the code, while the data of collections created in the script *live* inside the python process.\n",
      "\n",
      "\n",
      "<p style=\"background-color: lightyellow\">\n",
      "<em>Background:</em> All data storage of particle collections (or grids) is implemented by different storage classes. AMUSE supports storage classes that simply store the data in python lists and numpy arrays. AMUSE also supports storage classes that send messages to the codes to perform the actual storage and retrieval. At the script level the interface to these classes is all the same, so in normal use they behave the same. The performance of the different storage classes will vary, for a code storage the data may be sent over an internet connection causing slower reaction times. Smart usage of channels and caching data in memory sets will increase performance.\n",
      "</p>"
     ]
    },
    {
     "cell_type": "code",
     "collapsed": false,
     "input": [
      "from amuse.lab import *"
     ],
     "language": "python",
     "metadata": {},
     "outputs": [],
     "prompt_number": 1
    },
    {
     "cell_type": "markdown",
     "metadata": {},
     "source": [
      "It is easy to make two collections with the same particles, we only have to copy the collection"
     ]
    },
    {
     "cell_type": "code",
     "collapsed": false,
     "input": [
      "particles1 = Particles(4)\n",
      "particles2 = particles1.copy_to_memory()\n",
      "print particles1\n",
      "print particles2"
     ],
     "language": "python",
     "metadata": {},
     "outputs": [
      {
       "output_type": "stream",
       "stream": "stdout",
       "text": [
        "                 key\n",
        "                   -\n",
        "====================\n",
        " 3252067210124956219\n",
        "10026886985908834103\n",
        " 7273773629161635396\n",
        "10546081611040806737\n",
        "====================\n",
        "                 key\n",
        "                   -\n",
        "====================\n",
        " 3252067210124956219\n",
        "10026886985908834103\n",
        " 7273773629161635396\n",
        "10546081611040806737\n",
        "====================\n"
       ]
      }
     ],
     "prompt_number": 2
    },
    {
     "cell_type": "markdown",
     "metadata": {},
     "source": [
      "The particles in the collection have the same keys and are considered the same particles in AMUSE, although they are not identical."
     ]
    },
    {
     "cell_type": "code",
     "collapsed": false,
     "input": [
      "print particles1[1] == particles2[1]\n",
      "print particles1[1] is particles2[1]"
     ],
     "language": "python",
     "metadata": {},
     "outputs": [
      {
       "output_type": "stream",
       "stream": "stdout",
       "text": [
        "True\n",
        "False\n"
       ]
      }
     ],
     "prompt_number": 3
    },
    {
     "cell_type": "markdown",
     "metadata": {},
     "source": [
      "Setting the mass of the particles in one collection will not influence the particles in the second collection."
     ]
    },
    {
     "cell_type": "code",
     "collapsed": false,
     "input": [
      "particles1.mass = [5,6,7,8] | units.MSun\n",
      "particles1.radius = [1,2,3,4] | units.RSun\n",
      "print particles2"
     ],
     "language": "python",
     "metadata": {},
     "outputs": [
      {
       "output_type": "stream",
       "stream": "stdout",
       "text": [
        "                 key\n",
        "                   -\n",
        "====================\n",
        " 3252067210124956219\n",
        "10026886985908834103\n",
        " 7273773629161635396\n",
        "10546081611040806737\n",
        "====================\n"
       ]
      }
     ],
     "prompt_number": 4
    },
    {
     "cell_type": "markdown",
     "metadata": {},
     "source": [
      "You could however easily copy the data over with an attribute assignment"
     ]
    },
    {
     "cell_type": "code",
     "collapsed": false,
     "input": [
      "particles2.mass = particles1.mass\n",
      "print particles2"
     ],
     "language": "python",
     "metadata": {},
     "outputs": [
      {
       "output_type": "stream",
       "stream": "stdout",
       "text": [
        "                 key         mass\n",
        "                   -         MSun\n",
        "====================  ===========\n",
        " 3252067210124956219    5.000e+00\n",
        "10026886985908834103    6.000e+00\n",
        " 7273773629161635396    7.000e+00\n",
        "10546081611040806737    8.000e+00\n",
        "====================  ===========\n"
       ]
      }
     ],
     "prompt_number": 5
    },
    {
     "cell_type": "markdown",
     "metadata": {},
     "source": [
      "However this will fail or be incorrect if one of the sets changed in before the copy action"
     ]
    },
    {
     "cell_type": "code",
     "collapsed": false,
     "input": [
      "particles2.remove_particle(particles2[2])\n",
      "particles2.mass = particles1.mass\n",
      "print particles2"
     ],
     "language": "python",
     "metadata": {},
     "outputs": [
      {
       "output_type": "stream",
       "stream": "stdout",
       "text": [
        "                 key         mass\n",
        "                   -         MSun\n",
        "====================  ===========\n",
        " 3252067210124956219    5.000e+00\n",
        "10026886985908834103    6.000e+00\n",
        "10546081611040806737    7.000e+00\n",
        "====================  ===========\n"
       ]
      }
     ],
     "prompt_number": 6
    },
    {
     "cell_type": "markdown",
     "metadata": {},
     "source": [
      "As you can see the mass of the last particle in `particles2` is simply set to the mass of the third particle in `particles1`. These particles are no long the same particle as we removed the third particle from `particles2`. We just copied the masses based on the position of the particle in the collection and not based on the identity of the particle. In complex script this where particles are removed and added due to physical processes this will cause incorrect results."
     ]
    },
    {
     "cell_type": "code",
     "collapsed": false,
     "input": [
      "print particles1[2] == particles2[2]\n",
      "print particles1[2].mass\n",
      "print particles2[2].mass"
     ],
     "language": "python",
     "metadata": {},
     "outputs": [
      {
       "output_type": "stream",
       "stream": "stdout",
       "text": [
        "False\n",
        "7.0 MSun\n",
        "7.0 MSun\n"
       ]
      }
     ],
     "prompt_number": 7
    },
    {
     "cell_type": "markdown",
     "metadata": {},
     "source": [
      "AMUSE provides channels to trac the particle identities and optimize the transport of attribute values between collections. Channels are save to use when adding or removing particles. Channels are uni-directional, you'll need two to be able to do bi-derectional information exchange."
     ]
    },
    {
     "cell_type": "code",
     "collapsed": false,
     "input": [
      "channel_from_1_to_2 = particles1.new_channel_to(particles2)\n",
      "channel_from_1_to_2.copy_attribute(\"mass\")\n",
      "print particles1\n",
      "print particles2"
     ],
     "language": "python",
     "metadata": {},
     "outputs": [
      {
       "output_type": "stream",
       "stream": "stdout",
       "text": [
        "                 key         mass       radius\n",
        "                   -         MSun         RSun\n",
        "====================  ===========  ===========\n",
        " 3252067210124956219    5.000e+00    1.000e+00\n",
        "10026886985908834103    6.000e+00    2.000e+00\n",
        " 7273773629161635396    7.000e+00    3.000e+00\n",
        "10546081611040806737    8.000e+00    4.000e+00\n",
        "====================  ===========  ===========\n",
        "                 key         mass\n",
        "                   -         MSun\n",
        "====================  ===========\n",
        " 3252067210124956219    5.000e+00\n",
        "10026886985908834103    6.000e+00\n",
        "10546081611040806737    8.000e+00\n",
        "====================  ===========\n"
       ]
      }
     ],
     "prompt_number": 8
    },
    {
     "cell_type": "markdown",
     "metadata": {},
     "source": [
      "As you can see the particles with the same key now also have the same mass. Channels are always defined between exactly 2 collections and will only copy data of the overlapping particles in both collections. In the abouve case data of 3 particles was copied. \n",
      "\n",
      "Channels can copy an attribute from one set to another and give the copy a new name. This is useful, as some codes define particles with attributes having the same name but a script my assign a different meaning to these names. A stellar evolution code will define the star radius as just that, the star radius, but a stellar dynamics code might interpret the star radius as the star interaction radius (which will be factors larger)."
     ]
    },
    {
     "cell_type": "code",
     "collapsed": false,
     "input": [
      "channel_from_1_to_2.copy_attribute(\"mass\", \"core_mass\")\n",
      "print particles2"
     ],
     "language": "python",
     "metadata": {},
     "outputs": [
      {
       "output_type": "stream",
       "stream": "stdout",
       "text": [
        "                 key    core_mass         mass\n",
        "                   -         MSun         MSun\n",
        "====================  ===========  ===========\n",
        " 3252067210124956219    5.000e+00    5.000e+00\n",
        "10026886985908834103    6.000e+00    6.000e+00\n",
        "10546081611040806737    8.000e+00    8.000e+00\n",
        "====================  ===========  ===========\n"
       ]
      }
     ],
     "prompt_number": 9
    },
    {
     "cell_type": "markdown",
     "metadata": {},
     "source": [
      "Channels can be used to copy multiple attributes in one go, this can optimize data transport between codes."
     ]
    },
    {
     "cell_type": "code",
     "collapsed": false,
     "input": [
      "channel_from_1_to_2.copy_attributes([\"mass\", \"radius\"])\n",
      "print particles2"
     ],
     "language": "python",
     "metadata": {},
     "outputs": [
      {
       "output_type": "stream",
       "stream": "stdout",
       "text": [
        "                 key    core_mass         mass       radius\n",
        "                   -         MSun         MSun         RSun\n",
        "====================  ===========  ===========  ===========\n",
        " 3252067210124956219    5.000e+00    5.000e+00    1.000e+00\n",
        "10026886985908834103    6.000e+00    6.000e+00    2.000e+00\n",
        "10546081611040806737    8.000e+00    8.000e+00    4.000e+00\n",
        "====================  ===========  ===========  ===========\n"
       ]
      }
     ],
     "prompt_number": 10
    },
    {
     "cell_type": "code",
     "collapsed": false,
     "input": [],
     "language": "python",
     "metadata": {},
     "outputs": []
    }
   ],
   "metadata": {}
  }
 ]
}