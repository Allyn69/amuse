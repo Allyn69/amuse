{
 "metadata": {
  "name": "08 - Grids"
 },
 "nbformat": 3,
 "nbformat_minor": 0,
 "worksheets": [
  {
   "cells": [
    {
     "cell_type": "markdown",
     "metadata": {},
     "source": [
      "Grids in AMUSE have a similar functionality as particle sets, but grids are inmutable in the number of grid points in any direction. You cannot add a gridpoint like you add a particle in a particle set, instead you define the number of points in each direction on creation of the grid and amuse will create the grid points."
     ]
    },
    {
     "cell_type": "code",
     "collapsed": false,
     "input": [
      "from amuse.lab import *"
     ],
     "language": "python",
     "metadata": {},
     "outputs": [],
     "prompt_number": 1
    },
    {
     "cell_type": "markdown",
     "metadata": {},
     "source": [
      "Let's start by creating a simple 3 by 4 grid."
     ]
    },
    {
     "cell_type": "code",
     "collapsed": false,
     "input": [
      "grid = Grid(3,4)\n",
      "print grid"
     ],
     "language": "python",
     "metadata": {},
     "outputs": [
      {
       "output_type": "stream",
       "stream": "stdout",
       "text": [
        "Grid (3 x 4)\n"
       ]
      }
     ],
     "prompt_number": 4
    },
    {
     "cell_type": "markdown",
     "metadata": {},
     "source": [
      "A grid created in this way does not define any positions for the gridpoints, you can create a more useful grid with the ``create`` function. The create function needs a list of the number of points in each direction and the total distance covered by the grid in each direction. The created grid will cover the space from 0 to the given total distance in any direction"
     ]
    },
    {
     "cell_type": "code",
     "collapsed": false,
     "input": [
      "grid = Grid.create((3,4),(1|units.m, 2|units.m))\n",
      "print grid\n",
      "print grid.x"
     ],
     "language": "python",
     "metadata": {},
     "outputs": [
      {
       "output_type": "stream",
       "stream": "stdout",
       "text": [
        "Grid (3 x 4)\n",
        "[[ 0.16666667  0.16666667  0.16666667  0.16666667], [ 0.5  0.5  0.5  0.5], [ 0.83333333  0.83333333  0.83333333  0.83333333]] m\n"
       ]
      }
     ],
     "prompt_number": 8
    },
    {
     "cell_type": "markdown",
     "metadata": {},
     "source": [
      "The returned positions are the centers of the gridpoints"
     ]
    },
    {
     "cell_type": "code",
     "collapsed": false,
     "input": [
      "grid = Grid.create((3,4),(1|units.m, 2|units.m))\n",
      "scatter(\n",
      "    grid.x.value_in(units.m),\n",
      "    grid.y.value_in(units.m)\n",
      ")\n",
      "xlim(0,1)\n",
      "ylim(0,2)"
     ],
     "language": "python",
     "metadata": {},
     "outputs": [
      {
       "output_type": "pyout",
       "prompt_number": 13,
       "text": [
        "(0, 2)"
       ]
      },
      {
       "output_type": "display_data",
       "png": "[encoded data removed]"
      }
     ],
     "prompt_number": 13
    },
    {
     "cell_type": "code",
     "collapsed": false,
     "input": [],
     "language": "python",
     "metadata": {},
     "outputs": []
    }
   ],
   "metadata": {}
  }
 ]
}