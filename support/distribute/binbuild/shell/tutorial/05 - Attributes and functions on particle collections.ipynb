{
 "metadata": {
  "name": "05 - Attributes and functions on particle collections"
 },
 "nbformat": 3,
 "nbformat_minor": 0,
 "worksheets": [
  {
   "cells": [
    {
     "cell_type": "markdown",
     "metadata": {},
     "source": [
      "AMUSE pre-defines a number of calculcated attributes on particle sets, such as the kinetic energy of the particles in the set. These calculated attributes are used often and provide a sufficient set to start out with, but they do not define a *complete* set. It's possible to define your own attributes and extend the attributes on a particle set."
     ]
    },
    {
     "cell_type": "code",
     "collapsed": false,
     "input": [
      "from amuse.lab import *"
     ],
     "language": "python",
     "metadata": {},
     "outputs": [],
     "prompt_number": 1
    },
    {
     "cell_type": "markdown",
     "metadata": {},
     "source": [
      "As shown in the previous example, you can create a particle set by specifying the number of particles and setting their attributes. You can also create a particle set by using an inital condition function. For stellar clusters the commonly used plummer and king models are available. For this tutorial we will start with a king model. Global clusters created with a king model need the number of stars in the cluster and a dimensionless depth parameter that determines the depth of the potential well in the center of the cluster."
     ]
    },
    {
     "cell_type": "code",
     "collapsed": false,
     "input": [
      "particles = new_king_model(1000, 3)\n",
      "print particles"
     ],
     "language": "python",
     "metadata": {},
     "outputs": [
      {
       "output_type": "stream",
       "stream": "stdout",
       "text": [
        "                 key         mass       radius           vx           vy           vz            x            y            z\n",
        "                   -         mass       length  length / time  length / time  length / time       length       length       length\n",
        "====================  ===========  ===========  ===========  ===========  ===========  ===========  ===========  ===========\n",
        " 1720088102644109331    1.000e-03    0.000e+00    5.223e-01    5.477e-01   -8.434e-02   -1.582e-01   -5.508e-01    8.170e-01\n",
        " 1357903178106538736    1.000e-03    0.000e+00   -3.129e-01   -8.222e-02   -1.294e-04    5.887e-01   -2.963e-02    1.843e-01\n",
        " 8355720650697381852    1.000e-03    0.000e+00    1.448e-01    3.242e-01   -2.922e-01    3.215e-04    6.872e-01   -3.320e-01\n",
        "13362265276233661683    1.000e-03    0.000e+00    1.108e-01    3.959e-01   -3.324e-01    4.185e-03   -9.279e-02    3.999e-01\n",
        " 2352426820251545235    1.000e-03    0.000e+00   -9.082e-02   -4.710e-01   -8.410e-01    6.332e-01   -2.124e-02   -1.577e-01\n",
        " 7589900782279311319    1.000e-03    0.000e+00   -4.920e-02    3.203e-01   -5.726e-01   -1.436e-01   -1.044e+00   -7.662e-02\n",
        "14951157274389546970    1.000e-03    0.000e+00   -2.001e-02    6.323e-01   -5.909e-02   -3.382e-02    3.345e-01    5.830e-02\n",
        " 3144195528331040191    1.000e-03    0.000e+00   -1.053e+00   -5.564e-01    3.859e-02   -2.050e-01   -4.941e-01    2.626e-01\n",
        " 1514394357323451529    1.000e-03    0.000e+00    1.815e-01    2.626e-02   -7.401e-03   -8.937e-01    5.099e-01   -2.763e+00\n",
        " 3817864015219053040    1.000e-03    0.000e+00    7.279e-01    1.995e-01    3.996e-01    1.867e-01    9.336e-01   -7.943e-04\n",
        " 4379716079560080774    1.000e-03    0.000e+00    3.783e-02   -4.300e-01    6.575e-02    7.151e-01   -4.385e-01   -2.524e-01\n",
        "16489966703667663978    1.000e-03    0.000e+00   -2.853e-02    3.572e-02    2.350e-01   -2.458e+00   -8.727e-01   -9.816e-01\n",
        " 6016443798914915677    1.000e-03    0.000e+00    5.401e-01   -8.853e-01   -2.170e-01    2.418e-01    1.125e-01   -5.658e-01\n",
        " 8463369956004136953    1.000e-03    0.000e+00    8.031e-01    2.064e-01    2.299e-01    9.801e-04    4.267e-01    2.365e-01\n",
        "16380869401094019636    1.000e-03    0.000e+00    1.997e-01    4.168e-01   -1.918e-01   -8.556e-03    3.499e-01   -1.817e-02\n",
        "11925074905738653058    1.000e-03    0.000e+00    1.138e-01   -1.402e-01   -3.869e-02   -7.411e-01   -1.449e+00   -2.991e-01\n",
        " 9225760187983569600    1.000e-03    0.000e+00    4.140e-01    2.971e-01   -1.937e-01   -3.942e-01   -1.936e-01    3.020e-02\n",
        " 3902567281377975099    1.000e-03    0.000e+00    3.600e-01   -2.363e-02   -4.020e-01   -1.057e-01   -7.283e-01   -2.717e-01\n",
        " 6608476546287004281    1.000e-03    0.000e+00   -7.463e-02   -5.113e-01    7.869e-02    2.349e-01    2.407e-01   -2.263e-01\n",
        " 9400954254541697783    1.000e-03    0.000e+00   -3.772e-01   -8.281e-02   -3.437e-01    1.577e+00    4.416e-01    2.659e-02\n",
        "                 ...          ...          ...          ...          ...          ...          ...          ...          ...\n",
        " 2422261910649928404    1.000e-03    0.000e+00    5.102e-01   -2.964e-01    2.086e-01   -1.679e-01    1.711e-01    1.144e+00\n",
        " 5280827915571264147    1.000e-03    0.000e+00    4.940e-02   -1.805e-01    4.195e-01    1.198e+00   -1.279e+00    1.421e-01\n",
        "11141118655192872246    1.000e-03    0.000e+00   -4.241e-01    3.816e-01   -2.396e-01   -2.033e-01    7.834e-02    1.672e-01\n",
        "18239224308403096614    1.000e-03    0.000e+00    5.424e-01    3.305e-01    3.219e-01    3.873e-01   -2.553e-01    9.375e-02\n",
        "10812160422491633759    1.000e-03    0.000e+00    4.326e-01   -3.370e-02    5.786e-01   -3.991e-01    5.586e-01   -4.569e-01\n",
        " 5449418023158978400    1.000e-03    0.000e+00    7.110e-01    9.320e-01    2.606e-01   -3.509e-02    3.147e-01    1.608e-01\n",
        " 3136358939126484025    1.000e-03    0.000e+00   -4.962e-01    3.601e-01   -2.871e-02    1.099e+00    3.488e-02   -1.477e-01\n",
        " 4869860725778581387    1.000e-03    0.000e+00   -1.755e-01    5.237e-01    1.555e-01   -7.174e-01    2.503e-03    5.882e-01\n",
        " 7016910045831761042    1.000e-03    0.000e+00    4.596e-01   -1.789e-01    1.216e-01    6.228e-01    9.763e-01   -1.076e+00\n",
        "18376424106606299905    1.000e-03    0.000e+00   -4.661e-01    5.602e-01    2.794e-01    1.192e-01   -2.264e-01   -4.396e-01\n",
        "13206765159628338813    1.000e-03    0.000e+00   -8.591e-01    3.371e-02   -1.832e-01   -2.437e-01   -1.682e-01    2.979e-01\n",
        " 6761383156636202134    1.000e-03    0.000e+00    5.035e-01    5.525e-01    2.013e-01    1.821e-01    5.633e-01   -6.228e-02\n",
        "  809307923412432770    1.000e-03    0.000e+00    1.133e-01   -2.112e-01   -3.016e-01    1.702e-02    6.122e-02   -9.726e-01\n",
        "12911525437417501157    1.000e-03    0.000e+00    5.979e-01   -1.738e-01    3.915e-02   -1.053e+00   -1.381e+00    4.288e-01\n",
        " 2507841763783506042    1.000e-03    0.000e+00    4.232e-01    2.134e-01   -5.853e-02    1.176e+00    3.430e-01    2.381e-01\n",
        " 2472128502907771414    1.000e-03    0.000e+00    3.272e-01    2.468e-01   -5.500e-02   -3.745e-01   -3.006e-01   -1.574e+00\n",
        "11028909257459861119    1.000e-03    0.000e+00    7.008e-01   -6.352e-01    2.026e-01    3.095e-01   -3.489e-02   -4.170e-01\n",
        "13255474395970084097    1.000e-03    0.000e+00   -8.049e-01    1.903e-01    2.096e-01    3.761e-01    5.098e-02   -2.439e-01\n",
        " 6137406168232528935    1.000e-03    0.000e+00    5.140e-01   -2.676e-01   -1.035e-01   -3.604e-01   -3.617e-01    2.977e-01\n",
        "11180522609933795719    1.000e-03    0.000e+00   -1.700e-01   -5.316e-01   -2.914e-01   -4.990e-01    5.021e-01   -6.188e-01\n",
        "====================  ===========  ===========  ===========  ===========  ===========  ===========  ===========  ===========\n"
       ]
      }
     ],
     "prompt_number": 4
    },
    {
     "cell_type": "markdown",
     "metadata": {},
     "source": [
      "Common properties for a stellar cluster are its  center of mass position, total kinetic energy and potential energy."
     ]
    },
    {
     "cell_type": "code",
     "collapsed": false,
     "input": [
      "print \"center of mass\", particles.center_of_mass()\n",
      "print \"kinetic energy\", particles.kinetic_energy()\n",
      "print \"potential energy\", particles.potential_energy(G = nbody_system.G)"
     ],
     "language": "python",
     "metadata": {},
     "outputs": [
      {
       "output_type": "stream",
       "stream": "stdout",
       "text": [
        "center of mass [-1.08420217249e-18, -1.55040910665e-17, 1.40946282423e-18] length\n",
        "kinetic energy 0.255094363994 mass * length**2 * time**-2\n",
        "potential energy "
       ]
      },
      {
       "output_type": "stream",
       "stream": "stdout",
       "text": [
        "-0.499512187204 length**2 * mass * time**-2\n"
       ]
      }
     ],
     "prompt_number": 6
    },
    {
     "cell_type": "markdown",
     "metadata": {},
     "source": [
      "For the potential energy calculation we need to specify the gravitational constant, as the default value will use the gavitational constant in S.I. units and we are working in nbody units for this tutorial.\n",
      "\n",
      "In N-body calculations and reporting, the kinetic and potential energy of a set of stars is often scaled to exactly 0.25 and -0.5 respectively. AMUSE also has a function for this."
     ]
    },
    {
     "cell_type": "code",
     "collapsed": false,
     "input": [
      "particles.scale_to_standard()\n",
      "print \"kinetic energy\", particles.kinetic_energy()\n",
      "print \"potential energy\", particles.potential_energy(G = nbody_system.G)"
     ],
     "language": "python",
     "metadata": {},
     "outputs": [
      {
       "output_type": "stream",
       "stream": "stdout",
       "text": [
        "kinetic energy 0.25 mass * length**2 * time**-2\n",
        "potential energy "
       ]
      },
      {
       "output_type": "stream",
       "stream": "stdout",
       "text": [
        "-0.5 length**2 * mass * time**-2\n"
       ]
      }
     ],
     "prompt_number": 9
    },
    {
     "cell_type": "markdown",
     "metadata": {},
     "source": [
      "*Note that the potential energy and scaling calculations are implemented as order N-squared operations*\n",
      "\n",
      "Attributes of particle sets are always 1 dimensional by default, an array with a single value per particle attribute. But for some attributes it is easier to work with a 2d set, an array with multiple values (or an array of values) per particle attribute. For example, the positions of all particles. These attributes are called vector-attributes and are defined as a combination of 2 or more simple attributes. \n",
      "\n",
      "The position attribute combines the values of the `x`, `y` and `z` attributes."
     ]
    },
    {
     "cell_type": "code",
     "collapsed": false,
     "input": [
      "print particles[0].x\n",
      "print particles[0].y\n",
      "print particles[0].z\n",
      "print particles[0].position"
     ],
     "language": "python",
     "metadata": {},
     "outputs": [
      {
       "output_type": "stream",
       "stream": "stdout",
       "text": [
        "-0.158081438392 length\n",
        "-0.550293311475 length\n",
        "0.81619683624 length\n",
        "[-0.158081438392, -0.550293311475, 0.81619683624] length\n"
       ]
      }
     ],
     "prompt_number": 20
    },
    {
     "cell_type": "markdown",
     "metadata": {},
     "source": [
      "Other common vector attributes are `velocity` (combination of `vx`,`vy`,`vz`) and `acceleration` (combination of `ax`,`ay`,`az`).\n",
      "\n",
      "You can set the value of a position attribute and the underlying x, y or z attributes will be changed. "
     ]
    },
    {
     "cell_type": "code",
     "collapsed": false,
     "input": [
      "particles[0].position = [0, 0.1, 0.2] | nbody_system.length\n",
      "print particles[0].x\n",
      "print particles[0].y\n",
      "print particles[0].z"
     ],
     "language": "python",
     "metadata": {},
     "outputs": [
      {
       "output_type": "stream",
       "stream": "stdout",
       "text": [
        "0.0 length\n",
        "0.1 length\n",
        "0.2 length\n"
       ]
      }
     ],
     "prompt_number": 22
    },
    {
     "cell_type": "markdown",
     "metadata": {},
     "source": [
      "You can set the value of the x, y or z attribute and the position will change (as the position is just a combination of these attributes)."
     ]
    },
    {
     "cell_type": "code",
     "collapsed": false,
     "input": [
      "particles[0].x = 0.3 | nbody_system.length\n",
      "print particles[0].position"
     ],
     "language": "python",
     "metadata": {},
     "outputs": [
      {
       "output_type": "stream",
       "stream": "stdout",
       "text": [
        "[0.3, 0.1, 0.2] length\n"
       ]
      }
     ],
     "prompt_number": 23
    },
    {
     "cell_type": "markdown",
     "metadata": {},
     "source": [
      "You cannot change an item in the position array and thereby change the x, y, or z positions"
     ]
    },
    {
     "cell_type": "code",
     "collapsed": false,
     "input": [
      "particles[0].position[0] = 0.5 | nbody_system.length # this will not change anything in the particles set as the position is a copy\n",
      "print particles[0].x\n",
      "print particles[0].position"
     ],
     "language": "python",
     "metadata": {},
     "outputs": [
      {
       "output_type": "stream",
       "stream": "stdout",
       "text": [
        "0.3 length\n",
        "[0.3, 0.1, 0.2] length\n"
       ]
      }
     ],
     "prompt_number": 26
    },
    {
     "cell_type": "markdown",
     "metadata": {},
     "source": [
      "You can use the position attribute on the entire set. Let's print the positions of the first 10 particles."
     ]
    },
    {
     "cell_type": "code",
     "collapsed": false,
     "input": [
      "print particles.position[0:10]"
     ],
     "language": "python",
     "metadata": {},
     "outputs": [
      {
       "output_type": "stream",
       "stream": "stdout",
       "text": [
        "[[ 0.3  0.1  0.2], [ 0.58815454 -0.02960089  0.18409813], [  3.21163043e-04   6.86505574e-01  -3.31650760e-01], [ 0.00418127 -0.09270225  0.39955457], [ 0.63257043 -0.02122138 -0.15757951], [-0.14342941 -1.0427872  -0.07654913], [-0.03378943  0.33413236  0.05824804], [-0.20484943 -0.49364643  0.26236076], [-0.89286594  0.509404   -2.76014658], [  1.86540436e-01   9.32731396e-01  -7.93560960e-04]] length\n"
       ]
      }
     ],
     "prompt_number": 30
    },
    {
     "cell_type": "markdown",
     "metadata": {},
     "source": [
      "You can also use the position attribute to set values for the entire set"
     ]
    },
    {
     "cell_type": "code",
     "collapsed": false,
     "input": [
      "particles.position = [0.1, 0.2, 0.3] | nbody_system.length # set the position of all particles in the set to the same value\n",
      "print particles.position[0:10]\n",
      "print particles.x[0:10]"
     ],
     "language": "python",
     "metadata": {},
     "outputs": [
      {
       "output_type": "stream",
       "stream": "stdout",
       "text": [
        "[[ 0.1  0.2  0.3], [ 0.1  0.2  0.3], [ 0.1  0.2  0.3], [ 0.1  0.2  0.3], [ 0.1  0.2  0.3], [ 0.1  0.2  0.3], [ 0.1  0.2  0.3], [ 0.1  0.2  0.3], [ 0.1  0.2  0.3], [ 0.1  0.2  0.3]] length\n",
        "[0.1, 0.1, 0.1, 0.1, 0.1, 0.1, 0.1, 0.1, 0.1, 0.1] length\n"
       ]
      }
     ],
     "prompt_number": 33
    }
   ],
   "metadata": {}
  }
 ]
}