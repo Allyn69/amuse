{
 "metadata": {
  "name": "03 - Dimensionless numbers"
 },
 "nbformat": 3,
 "nbformat_minor": 0,
 "worksheets": [
  {
   "cells": [
    {
     "cell_type": "markdown",
     "metadata": {},
     "source": [
      "In many community codes and for a lot of algorithms it makes sense to use dimensionless units. Often the model functions become clearer and less calculations are needed. Although the quantities involved are dimensionless they still represent a value of a model property (mass, lenghth etc.). In AMUSE we model these quantities explicitely. You need to specify if a value is a *mass*, *length* or *time* property, or even a combined property such as *length* per *time*.\n",
      "\n",
      "The dimensionless units are defined in the generic_system and nbody_system modules."
     ]
    },
    {
     "cell_type": "code",
     "collapsed": false,
     "input": [
      "from amuse.lab import *\n",
      "print 10.0 | generic.length\n",
      "print 10.0 | generic_unit_system.length"
     ],
     "language": "python",
     "metadata": {},
     "outputs": [
      {
       "ename": "AttributeError",
       "evalue": "type object 'numpy.generic' has no attribute 'length'",
       "output_type": "pyerr",
       "traceback": [
        "\u001b[1;31m---------------------------------------------------------------------------\u001b[0m\n\u001b[1;31mAttributeError\u001b[0m                            Traceback (most recent call last)",
        "\u001b[1;32m/net/biesbosch/data2/vanelteren/workspace/amuse/support/distribute/binbuild/shell/tutorial/<ipython-input-2-23f1572f5203>\u001b[0m in \u001b[0;36m<module>\u001b[1;34m()\u001b[0m\n\u001b[0;32m      1\u001b[0m \u001b[1;32mfrom\u001b[0m \u001b[0mamuse\u001b[0m\u001b[1;33m.\u001b[0m\u001b[0mlab\u001b[0m \u001b[1;32mimport\u001b[0m \u001b[1;33m*\u001b[0m\u001b[1;33m\u001b[0m\u001b[0m\n\u001b[1;32m----> 2\u001b[1;33m \u001b[1;32mprint\u001b[0m \u001b[1;36m10.0\u001b[0m \u001b[1;33m|\u001b[0m \u001b[0mgeneric\u001b[0m\u001b[1;33m.\u001b[0m\u001b[0mlength\u001b[0m\u001b[1;33m\u001b[0m\u001b[0m\n\u001b[0m\u001b[0;32m      3\u001b[0m \u001b[1;32mprint\u001b[0m \u001b[1;36m10.0\u001b[0m \u001b[1;33m|\u001b[0m \u001b[0mnbody_system\u001b[0m\u001b[1;33m.\u001b[0m\u001b[0mlength\u001b[0m\u001b[1;33m\u001b[0m\u001b[0m\n",
        "\u001b[1;31mAttributeError\u001b[0m: type object 'numpy.generic' has no attribute 'length'"
       ]
      }
     ],
     "prompt_number": 2
    },
    {
     "cell_type": "code",
     "collapsed": false,
     "input": [],
     "language": "python",
     "metadata": {},
     "outputs": []
    }
   ],
   "metadata": {}
  }
 ]
}