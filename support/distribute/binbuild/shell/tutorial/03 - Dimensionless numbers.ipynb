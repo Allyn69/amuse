{
 "metadata": {
  "name": "03 - Dimensionless numbers"
 },
 "nbformat": 3,
 "nbformat_minor": 0,
 "worksheets": [
  {
   "cells": [
    {
     "cell_type": "markdown",
     "metadata": {},
     "source": [
      "In many community codes and for a lot of algorithms it makes sense to use dimensionless units. Often the model functions become clearer and less calculations are needed. Although the quantities involved are dimensionless they still represent a value of a model property (mass, lenghth etc.). In AMUSE we model these quantities explicitely. You need to specify if a value is a *mass*, *length* or *time* property, or even a combined property such as *length* per *time*.\n",
      "\n",
      "The dimensionless units are defined in the generic_system and nbody_system modules."
     ]
    },
    {
     "cell_type": "code",
     "collapsed": false,
     "input": [
      "from amuse.lab import *\n",
      "print 10.0 | nbody_system.length\n",
      "print 10.0 | generic_unit_system.length"
     ],
     "language": "python",
     "metadata": {},
     "outputs": [
      {
       "output_type": "stream",
       "stream": "stdout",
       "text": [
        "10.0 length\n",
        "10.0 length\n"
       ]
      }
     ],
     "prompt_number": 1
    },
    {
     "cell_type": "markdown",
     "metadata": {},
     "source": [
      "Dimensionless quantities work exactly the same as normal quantities"
     ]
    },
    {
     "cell_type": "code",
     "collapsed": false,
     "input": [
      "cluster_mass = 1.0 | generic_unit_system.length\n",
      "mean_speed = 0.1 | generic_unit_system.length / generic_unit_system.time\n",
      "print mean_speed * cluster_mass"
     ],
     "language": "python",
     "metadata": {},
     "outputs": [
      {
       "output_type": "stream",
       "stream": "stdout",
       "text": [
        "0.1 length**2 * time**-1\n"
       ]
      }
     ],
     "prompt_number": 2
    },
    {
     "cell_type": "markdown",
     "metadata": {},
     "source": [
      "AMUSE supports two dimensionless unit systems, the **generic_unit_system** is the most general, the **nbody_system** is a special case and always defines `G=1`. For gravity calculations the **nbody_system** module is recommended as this follows the general practice in most n-body codes.\n",
      "\n",
      "Dimensionless quantities are very useful and can be applied almost everywhere in AMUSE. On coupling codes, or when comparing with observations, you might want to work in S.I. units. To do so, you'll need a converter. For nbody units you can create a converter like this:"
     ]
    },
    {
     "cell_type": "code",
     "collapsed": false,
     "input": [
      "converter = nbody_system.nbody_to_si(1 | units.MSun, 1 | units.AU)"
     ],
     "language": "python",
     "metadata": {},
     "outputs": [],
     "prompt_number": 3
    },
    {
     "cell_type": "markdown",
     "metadata": {},
     "source": [
      "A converter always needs two orthogonal quantities, besides `G=1` which is already defined. These quantities can be simple (like 1 solar mass) or combined (like  10 km/s). The two quantities fix the scaling and will be used to convert to and from the nbody units:"
     ]
    },
    {
     "cell_type": "code",
     "collapsed": false,
     "input": [
      "print \"Mass of the sun, scaled:\" , converter.to_nbody(1 | units.MSun)\n",
      "print \"10 nbody masses, in S.I.:\" , converter.to_si(10 | nbody_system.mass)\n",
      "print \"1 nbody time, in S.I:\" , converter.to_si(1 | nbody_system.time).as_string_in(units.yr)\n",
      "print \"10 km/s, in nbody:\" , converter.to_nbody(10.0 | units.km / units.s)"
     ],
     "language": "python",
     "metadata": {},
     "outputs": [
      {
       "output_type": "stream",
       "stream": "stdout",
       "text": [
        "Mass of the sun, scaled: 1.0 mass\n",
        "10 nbody masses, in S.I.: 1.98892e+31 kg\n",
        "1 nbody time, in S.I: 0.159141174195 yr\n",
        "10 km/s, in nbody: 0.335700383529 length * time**-1\n"
       ]
      }
     ],
     "prompt_number": 4
    },
    {
     "cell_type": "markdown",
     "metadata": {},
     "source": [
      "For the generic unit converter, you can specify up to 7 quantities (as there are 7 base properties). Any combination of quantities is possible as long as it results in a orthogonal set of converters. So, giving a length quatity twice will result in an error."
     ]
    },
    {
     "cell_type": "code",
     "collapsed": false,
     "input": [
      "converter = generic_unit_converter.ConvertBetweenGenericAndSiUnits(1 | units.MSun, 1 | units.AU, constants.G)\n",
      "print \"Mass of the sun, scaled:\" , converter.to_nbody(1 | units.MSun)\n",
      "print \"10 generic masses, in S.I.:\" , converter.to_si(10 | nbody_system.mass)\n",
      "print \"1 generic time, in S.I:\" , converter.to_si(1 | nbody_system.time).as_string_in(units.yr)\n",
      "print \"10 km/s, in generic:\" , converter.to_nbody(10.0 | units.km / units.s)"
     ],
     "language": "python",
     "metadata": {},
     "outputs": [
      {
       "output_type": "stream",
       "stream": "stdout",
       "text": [
        "Mass of the sun, scaled: 1.0 mass\n",
        "10 generic masses, in S.I.: 1.98892e+31 kg\n",
        "1 generic time, in S.I: 0.159141174195 yr\n",
        "10 km/s, in generic: 0.335700383529 length * time**-1\n"
       ]
      }
     ],
     "prompt_number": 9
    },
    {
     "cell_type": "code",
     "collapsed": false,
     "input": [
      "converter = generic_unit_converter.ConvertBetweenGenericAndSiUnits(1 | units.MSun, 1 | units.AU, 1 | units.yr)\n",
      "print \"Mass of the sun, scaled:\" , converter.to_nbody(1 | units.MSun)\n",
      "print \"10 generic masses, in S.I.:\" , converter.to_si(10 | nbody_system.mass)\n",
      "print \"1 generic time, in S.I:\" , converter.to_si(1 | nbody_system.time).as_string_in(units.yr)\n",
      "print \"10 km/s, in generic:\" , converter.to_nbody(10.0 | units.km / units.s)"
     ],
     "language": "python",
     "metadata": {},
     "outputs": [
      {
       "output_type": "stream",
       "stream": "stdout",
       "text": [
        "Mass of the sun, scaled: 1.0 mass\n",
        "10 generic masses, in S.I.: 1.98892e+31 kg\n",
        "1 generic time, in S.I: 1.0 yr\n",
        "10 km/s, in generic: 2.10945021128 length * time**-1\n"
       ]
      }
     ],
     "prompt_number": 10
    },
    {
     "cell_type": "code",
     "collapsed": false,
     "input": [
      "generic_unit_converter.ConvertBetweenGenericAndSiUnits(1 | units.MSun, 1 | units.AU, 1 | units.m)"
     ],
     "language": "python",
     "metadata": {},
     "outputs": [
      {
       "ename": "UnitsNotOrtogonalException",
       "evalue": "The number of orthoganal units is incorrect, expected 3 but found 2. To convert between S.I. units and another system of units a set of quantities with orthogonal units is needed. These can be quantities with a single unit (such as length or time) or quantities with a derived units (such as velocity or force)",
       "output_type": "pyerr",
       "traceback": [
        "\u001b[1;31m---------------------------------------------------------------------------\u001b[0m\n\u001b[1;31mUnitsNotOrtogonalException\u001b[0m                Traceback (most recent call last)",
        "\u001b[1;32m/net/biesbosch/data2/vanelteren/workspace/amuse/support/distribute/binbuild/shell/tutorial/<ipython-input-11-144e632238f5>\u001b[0m in \u001b[0;36m<module>\u001b[1;34m()\u001b[0m\n\u001b[1;32m----> 1\u001b[1;33m \u001b[0mgeneric_unit_converter\u001b[0m\u001b[1;33m.\u001b[0m\u001b[0mConvertBetweenGenericAndSiUnits\u001b[0m\u001b[1;33m(\u001b[0m\u001b[1;36m1\u001b[0m \u001b[1;33m|\u001b[0m \u001b[0munits\u001b[0m\u001b[1;33m.\u001b[0m\u001b[0mMSun\u001b[0m\u001b[1;33m,\u001b[0m \u001b[1;36m1\u001b[0m \u001b[1;33m|\u001b[0m \u001b[0munits\u001b[0m\u001b[1;33m.\u001b[0m\u001b[0mAU\u001b[0m\u001b[1;33m,\u001b[0m \u001b[1;36m1\u001b[0m \u001b[1;33m|\u001b[0m \u001b[0munits\u001b[0m\u001b[1;33m.\u001b[0m\u001b[0mm\u001b[0m\u001b[1;33m)\u001b[0m\u001b[1;33m\u001b[0m\u001b[0m\n\u001b[0m",
        "\u001b[1;32m/net/biesbosch/data2/vanelteren/workspace/amuse/src/amuse/units/generic_unit_converter.pyc\u001b[0m in \u001b[0;36m__init__\u001b[1;34m(self, *arguments_list)\u001b[0m\n\u001b[0;32m     98\u001b[0m                 \u001b[0mavailable_units\u001b[0m\u001b[1;33m.\u001b[0m\u001b[0madd\u001b[0m\u001b[1;33m(\u001b[0m\u001b[0mbase_unit\u001b[0m\u001b[1;33m)\u001b[0m\u001b[1;33m\u001b[0m\u001b[0m\n\u001b[0;32m     99\u001b[0m         \u001b[1;32mif\u001b[0m \u001b[1;32mnot\u001b[0m \u001b[0mlen\u001b[0m\u001b[1;33m(\u001b[0m\u001b[0mavailable_units\u001b[0m\u001b[1;33m)\u001b[0m \u001b[1;32mis\u001b[0m \u001b[0mself\u001b[0m\u001b[1;33m.\u001b[0m\u001b[0msystem_rank\u001b[0m\u001b[1;33m:\u001b[0m\u001b[1;33m\u001b[0m\u001b[0m\n\u001b[1;32m--> 100\u001b[1;33m             \u001b[1;32mraise\u001b[0m \u001b[0mUnitsNotOrtogonalException\u001b[0m\u001b[1;33m(\u001b[0m\u001b[0mself\u001b[0m\u001b[1;33m.\u001b[0m\u001b[0msystem_rank\u001b[0m\u001b[1;33m,\u001b[0m \u001b[0mlen\u001b[0m\u001b[1;33m(\u001b[0m\u001b[0mavailable_units\u001b[0m\u001b[1;33m)\u001b[0m\u001b[1;33m)\u001b[0m\u001b[1;33m\u001b[0m\u001b[0m\n\u001b[0m\u001b[0;32m    101\u001b[0m         \u001b[0mself\u001b[0m\u001b[1;33m.\u001b[0m\u001b[0mlist_of_available_units\u001b[0m \u001b[1;33m=\u001b[0m \u001b[0mlist\u001b[0m\u001b[1;33m(\u001b[0m\u001b[0mavailable_units\u001b[0m\u001b[1;33m)\u001b[0m\u001b[1;33m\u001b[0m\u001b[0m\n\u001b[0;32m    102\u001b[0m \u001b[1;33m\u001b[0m\u001b[0m\n",
        "\u001b[1;31mUnitsNotOrtogonalException\u001b[0m: The number of orthoganal units is incorrect, expected 3 but found 2. To convert between S.I. units and another system of units a set of quantities with orthogonal units is needed. These can be quantities with a single unit (such as length or time) or quantities with a derived units (such as velocity or force)"
       ]
      },
      {
       "output_type": "stream",
       "stream": "stderr",
       "text": [
        "ERROR: An unexpected error occurred while tokenizing input\n",
        "The following traceback may be corrupted or invalid\n",
        "The error message is: ('EOF in multi-line statement', (6, 0))\n"
       ]
      }
     ],
     "prompt_number": 11
    },
    {
     "cell_type": "code",
     "collapsed": false,
     "input": [],
     "language": "python",
     "metadata": {},
     "outputs": []
    }
   ],
   "metadata": {}
  }
 ]
}