{
 "metadata": {
  "name": "02 - Quantities with units"
 },
 "nbformat": 3,
 "nbformat_minor": 0,
 "worksheets": [
  {
   "cells": [
    {
     "cell_type": "markdown",
     "metadata": {},
     "source": [
      "All calculations in AMUSE are done with quantities having units. These quantities and their units are implemented as python classes and can be used almost everywere you would normaly use a number (or a numpy array). \n",
      "\n",
      "As we will do in all tutorials we start by importing everything from amuse.lab:"
     ]
    },
    {
     "cell_type": "code",
     "collapsed": false,
     "input": [
      "from amuse.lab import *"
     ],
     "language": "python",
     "metadata": {},
     "outputs": [],
     "prompt_number": 1
    },
    {
     "cell_type": "markdown",
     "metadata": {},
     "source": [
      "You can create a quantity by typing a number and combining it with a unit using the bar `|` operator."
     ]
    },
    {
     "cell_type": "code",
     "collapsed": false,
     "input": [
      "1.989e30 | units.kg"
     ],
     "language": "python",
     "metadata": {},
     "outputs": [
      {
       "output_type": "pyout",
       "prompt_number": 2,
       "text": [
        "quantity<1.989e+30 kg>"
       ]
      }
     ],
     "prompt_number": 2
    },
    {
     "cell_type": "markdown",
     "metadata": {},
     "source": [
      "All operations you can do on numbers, you can also perform on quantities. For example, assuming the earth is a sphere, let's calculate some properties:"
     ]
    },
    {
     "cell_type": "code",
     "collapsed": false,
     "input": [
      "earth_radius = 6384 | units.km\n",
      "print \"diameter :\", earth_radius * 2\n",
      "print \"surface area :\", 4.0 * pi * earth_radius**2\n",
      "print \"volume :\", 4.0 / 3.0 * pi * earth_radius**3"
     ],
     "language": "python",
     "metadata": {},
     "outputs": [
      {
       "output_type": "stream",
       "stream": "stdout",
       "text": [
        "diameter : 12768000.0 m\n",
        "surface area : 5.12148164653e+14 m**2\n",
        "volume : 1.08985129438e+21 m**3\n"
       ]
      }
     ],
     "prompt_number": 3
    },
    {
     "cell_type": "markdown",
     "metadata": {},
     "source": [
      "It is also possible to combine quantities with different units in a calculation. To continue our properties of the earth example, lets calcute it's density:"
     ]
    },
    {
     "cell_type": "code",
     "collapsed": false,
     "input": [
      "earth_mass = 5.97219e24 | units.kg\n",
      "earth_volume = 4.0 / 3.0 * pi * earth_radius**3\n",
      "\n",
      "print \"density :\", earth_mass / earth_volume"
     ],
     "language": "python",
     "metadata": {},
     "outputs": [
      {
       "output_type": "stream",
       "stream": "stdout",
       "text": [
        "density : 5479.82099098 kg * m**-3\n"
       ]
      }
     ],
     "prompt_number": 4
    },
    {
     "cell_type": "markdown",
     "metadata": {},
     "source": [
      "You will want to interact with other python libraries that simply cannot handle units. For those cases you can convert the quantity into a value of a specific unit:"
     ]
    },
    {
     "cell_type": "code",
     "collapsed": false,
     "input": [
      "print \"earth mass in gram :\", earth_mass.value_in(units.g)"
     ],
     "language": "python",
     "metadata": {},
     "outputs": [
      {
       "output_type": "stream",
       "stream": "stdout",
       "text": [
        "earth mass in gram : 5.97219e+27\n"
       ]
      }
     ],
     "prompt_number": 5
    },
    {
     "cell_type": "markdown",
     "metadata": {},
     "source": [
      "Astrophysical units are also supported:"
     ]
    },
    {
     "cell_type": "code",
     "collapsed": false,
     "input": [
      "print \"earth mass in solar masses :\", earth_mass.value_in(units.MSun)"
     ],
     "language": "python",
     "metadata": {},
     "outputs": [
      {
       "output_type": "stream",
       "stream": "stdout",
       "text": [
        "earth mass in solar masses : 3.00273012489e-06\n"
       ]
      }
     ],
     "prompt_number": 6
    },
    {
     "cell_type": "markdown",
     "metadata": {},
     "source": [
      "To also print the unit, you can use as special conversion function:"
     ]
    },
    {
     "cell_type": "code",
     "collapsed": false,
     "input": [
      "print \"earth mass :\", earth_mass.as_quantity_in(units.MSun)"
     ],
     "language": "python",
     "metadata": {},
     "outputs": [
      {
       "output_type": "stream",
       "stream": "stdout",
       "text": [
        "earth mass : 3.00273012489e-06 MSun\n"
       ]
      }
     ],
     "prompt_number": 7
    },
    {
     "cell_type": "markdown",
     "metadata": {},
     "source": [
      "Numpy arrays and python lists can also be converted to vector quantities. Once converted, the resulting quantities support a lot of numpy operations"
     ]
    },
    {
     "cell_type": "code",
     "collapsed": false,
     "input": [
      "masses = [641.85, 4868.5, 5973.6, 102430, 86832, 568460, 1898600] | (1e21 * units.kg)\n",
      "radii = [0.532, 0.950, 1, 3.86, 3.98, 9.14, 10.97] | (6384 * units.km)\n",
      "print \"sum of planet masses: \", masses.sum().as_quantity_in(units.MSun)\n",
      "print \"planet diameters: \", (radii * 2)"
     ],
     "language": "python",
     "metadata": {},
     "outputs": [
      {
       "output_type": "stream",
       "stream": "stdout",
       "text": [
        "sum of planet masses:  0.00134133396517 MSun\n",
        "planet diameters:  [6792576.0, 12129600.0, 12768000.0, 49284480.0, 50816640.0, 116699520.0, 140064960.0] m\n"
       ]
      }
     ],
     "prompt_number": 14
    },
    {
     "cell_type": "markdown",
     "metadata": {},
     "source": [
      "You can create your own unit with a new name using the `units.named` function. This functions takes the name of the unit, a symbol for printing and the unit it is based on. You can define a unit to represent the volume of the earth"
     ]
    },
    {
     "cell_type": "code",
     "collapsed": false,
     "input": [
      "earth_volume_unit = units.named('Vol-Earth', 'EVol', earth_volume.to_unit())\n",
      "print earth_volume.as_quantity_in(earth_volume_unit)"
     ],
     "language": "python",
     "metadata": {},
     "outputs": [
      {
       "output_type": "stream",
       "stream": "stdout",
       "text": [
        "1.0 EVol\n"
       ]
      }
     ],
     "prompt_number": 32
    },
    {
     "cell_type": "markdown",
     "metadata": {},
     "source": [
      "Most operations on a vector quantity are elementwise. We can do some operations on the array of planet masses and raddii we defined earlier. (As AMUSE uses numpy internally for these operations we refer to the numpy documentation, if you want to learn more)"
     ]
    },
    {
     "cell_type": "code",
     "collapsed": false,
     "input": [
      "volumes = 4.0 / 3.0 * pi * radii**3\n",
      "earth_density = earth_mass / earth_volume\n",
      "print \"volumes :\", volumes.as_quantity_in(earth_volume_unit)\n",
      "print \"densities :\", (masses / volumes)"
     ],
     "language": "python",
     "metadata": {},
     "outputs": [
      {
       "output_type": "stream",
       "stream": "stdout",
       "text": [
        "volumes : [0.150568768, 0.857375, 1.0, 57.512456, 63.044792, 763.551944, 1320.139673] EVol\n",
        "densities : [3911.39255087, 5210.23262686, 5481.11474546, 1634.17293834, 1263.75632928, 683.1154049, 1319.61228349] kg * m**-3\n"
       ]
      }
     ],
     "prompt_number": 33
    },
    {
     "cell_type": "markdown",
     "metadata": {},
     "source": [
      "Quantities become normal numbers or numpy arrays when the units cancel out in a calcution (You can use this fact, to replace a `value_in` function call with a division):"
     ]
    },
    {
     "cell_type": "code",
     "collapsed": false,
     "input": [
      "print volumes / earth_volume"
     ],
     "language": "python",
     "metadata": {},
     "outputs": [
      {
       "output_type": "stream",
       "stream": "stdout",
       "text": [
        "[  1.50568768e-01   8.57375000e-01   1.00000000e+00   5.75124560e+01\n",
        "   6.30447920e+01   7.63551944e+02   1.32013967e+03]\n"
       ]
      }
     ],
     "prompt_number": 35
    },
    {
     "cell_type": "markdown",
     "metadata": {},
     "source": [
      "Operations with incompatible units will fail:"
     ]
    },
    {
     "cell_type": "code",
     "collapsed": false,
     "input": [
      "print earth_mass + earth_volume"
     ],
     "language": "python",
     "metadata": {},
     "outputs": [
      {
       "ename": "IncompatibleUnitsException",
       "evalue": "Cannot express 1000000000.0 * m**3 in kg, the units do not have the same bases",
       "output_type": "pyerr",
       "traceback": [
        "\u001b[1;31m---------------------------------------------------------------------------\u001b[0m\n\u001b[1;31mIncompatibleUnitsException\u001b[0m                Traceback (most recent call last)",
        "\u001b[1;32m/net/biesbosch/data2/vanelteren/workspace/amuse/support/distribute/binbuild/shell/tutorial/<ipython-input-14-f7db6808f790>\u001b[0m in \u001b[0;36m<module>\u001b[1;34m()\u001b[0m\n\u001b[1;32m----> 1\u001b[1;33m \u001b[1;32mprint\u001b[0m \u001b[0mearth_mass\u001b[0m \u001b[1;33m+\u001b[0m \u001b[0mearth_volume\u001b[0m\u001b[1;33m\u001b[0m\u001b[0m\n\u001b[0m",
        "\u001b[1;32m/net/biesbosch/data2/vanelteren/workspace/amuse/src/amuse/units/quantities.pyc\u001b[0m in \u001b[0;36m__add__\u001b[1;34m(self, other)\u001b[0m\n\u001b[0;32m     98\u001b[0m             \u001b[1;32mreturn\u001b[0m \u001b[0mnew_quantity\u001b[0m\u001b[1;33m(\u001b[0m\u001b[0mother\u001b[0m\u001b[1;33m.\u001b[0m\u001b[0mnumber\u001b[0m\u001b[1;33m,\u001b[0m \u001b[0mother\u001b[0m\u001b[1;33m.\u001b[0m\u001b[0munit\u001b[0m\u001b[1;33m)\u001b[0m\u001b[1;33m\u001b[0m\u001b[0m\n\u001b[0;32m     99\u001b[0m         \u001b[1;32melse\u001b[0m\u001b[1;33m:\u001b[0m\u001b[1;33m\u001b[0m\u001b[0m\n\u001b[1;32m--> 100\u001b[1;33m             \u001b[0mother_in_my_units\u001b[0m \u001b[1;33m=\u001b[0m \u001b[0mto_quantity\u001b[0m\u001b[1;33m(\u001b[0m\u001b[0mother\u001b[0m\u001b[1;33m)\u001b[0m\u001b[1;33m.\u001b[0m\u001b[0mas_quantity_in\u001b[0m\u001b[1;33m(\u001b[0m\u001b[0mself\u001b[0m\u001b[1;33m.\u001b[0m\u001b[0munit\u001b[0m\u001b[1;33m)\u001b[0m\u001b[1;33m\u001b[0m\u001b[0m\n\u001b[0m\u001b[0;32m    101\u001b[0m             \u001b[1;32mreturn\u001b[0m \u001b[0mnew_quantity\u001b[0m\u001b[1;33m(\u001b[0m\u001b[0mself\u001b[0m\u001b[1;33m.\u001b[0m\u001b[0mnumber\u001b[0m \u001b[1;33m+\u001b[0m \u001b[0mother_in_my_units\u001b[0m\u001b[1;33m.\u001b[0m\u001b[0mnumber\u001b[0m\u001b[1;33m,\u001b[0m \u001b[0mself\u001b[0m\u001b[1;33m.\u001b[0m\u001b[0munit\u001b[0m\u001b[1;33m)\u001b[0m\u001b[1;33m\u001b[0m\u001b[0m\n\u001b[0;32m    102\u001b[0m \u001b[1;33m\u001b[0m\u001b[0m\n",
        "\u001b[1;32m/net/biesbosch/data2/vanelteren/workspace/amuse/src/amuse/units/quantities.pyc\u001b[0m in \u001b[0;36mas_quantity_in\u001b[1;34m(self, another_unit)\u001b[0m\n\u001b[0;32m    163\u001b[0m         \u001b[1;33m:\u001b[0m\u001b[0mreturns\u001b[0m\u001b[1;33m:\u001b[0m \u001b[0mquantity\u001b[0m \u001b[0mconverted\u001b[0m \u001b[0mto\u001b[0m \u001b[0mnew\u001b[0m \u001b[0munit\u001b[0m\u001b[1;33m\u001b[0m\u001b[0m\n\u001b[0;32m    164\u001b[0m         \"\"\"\n\u001b[1;32m--> 165\u001b[1;33m         \u001b[0mvalue_of_unit_in_another_unit\u001b[0m \u001b[1;33m=\u001b[0m \u001b[0mself\u001b[0m\u001b[1;33m.\u001b[0m\u001b[0munit\u001b[0m\u001b[1;33m.\u001b[0m\u001b[0mas_quantity_in\u001b[0m\u001b[1;33m(\u001b[0m\u001b[0manother_unit\u001b[0m\u001b[1;33m)\u001b[0m\u001b[1;33m\u001b[0m\u001b[0m\n\u001b[0m\u001b[0;32m    166\u001b[0m         \u001b[1;32mreturn\u001b[0m \u001b[0mnew_quantity\u001b[0m\u001b[1;33m(\u001b[0m\u001b[0mself\u001b[0m\u001b[1;33m.\u001b[0m\u001b[0mnumber\u001b[0m \u001b[1;33m*\u001b[0m \u001b[0mvalue_of_unit_in_another_unit\u001b[0m\u001b[1;33m.\u001b[0m\u001b[0mnumber\u001b[0m\u001b[1;33m,\u001b[0m \u001b[0manother_unit\u001b[0m\u001b[1;33m)\u001b[0m\u001b[1;33m\u001b[0m\u001b[0m\n\u001b[0;32m    167\u001b[0m \u001b[1;33m\u001b[0m\u001b[0m\n",
        "\u001b[1;32m/net/biesbosch/data2/vanelteren/workspace/amuse/src/amuse/units/core.pyc\u001b[0m in \u001b[0;36mas_quantity_in\u001b[1;34m(self, unit)\u001b[0m\n\u001b[0;32m    285\u001b[0m             \u001b[1;32mraise\u001b[0m \u001b[0mexceptions\u001b[0m\u001b[1;33m.\u001b[0m\u001b[0mAmuseException\u001b[0m\u001b[1;33m(\u001b[0m\u001b[1;34m\"Cannot expres a unit in a quantity\"\u001b[0m\u001b[1;33m)\u001b[0m\u001b[1;33m\u001b[0m\u001b[0m\n\u001b[0;32m    286\u001b[0m         \u001b[1;32melse\u001b[0m\u001b[1;33m:\u001b[0m\u001b[1;33m\u001b[0m\u001b[0m\n\u001b[1;32m--> 287\u001b[1;33m             \u001b[0mfactor\u001b[0m \u001b[1;33m=\u001b[0m \u001b[0mself\u001b[0m\u001b[1;33m.\u001b[0m\u001b[0mconversion_factor_from\u001b[0m\u001b[1;33m(\u001b[0m\u001b[0munit\u001b[0m\u001b[1;33m)\u001b[0m\u001b[1;33m\u001b[0m\u001b[0m\n\u001b[0m\u001b[0;32m    288\u001b[0m             \u001b[1;32mreturn\u001b[0m \u001b[0mquantities\u001b[0m\u001b[1;33m.\u001b[0m\u001b[0mnew_quantity\u001b[0m\u001b[1;33m(\u001b[0m\u001b[0mfactor\u001b[0m\u001b[1;33m,\u001b[0m \u001b[0munit\u001b[0m\u001b[1;33m)\u001b[0m\u001b[1;33m\u001b[0m\u001b[0m\n\u001b[0;32m    289\u001b[0m \u001b[1;33m\u001b[0m\u001b[0m\n",
        "\u001b[1;32m/net/biesbosch/data2/vanelteren/workspace/amuse/src/amuse/units/core.pyc\u001b[0m in \u001b[0;36mconversion_factor_from\u001b[1;34m(self, x)\u001b[0m\n\u001b[0;32m    249\u001b[0m             \u001b[1;32mreturn\u001b[0m \u001b[0mthis_factor\u001b[0m \u001b[1;33m/\u001b[0m \u001b[0mother_factor\u001b[0m\u001b[1;33m\u001b[0m\u001b[0m\n\u001b[0;32m    250\u001b[0m         \u001b[1;32melse\u001b[0m\u001b[1;33m:\u001b[0m\u001b[1;33m\u001b[0m\u001b[0m\n\u001b[1;32m--> 251\u001b[1;33m             \u001b[1;32mraise\u001b[0m \u001b[0mIncompatibleUnitsException\u001b[0m\u001b[1;33m(\u001b[0m\u001b[0mx\u001b[0m\u001b[1;33m,\u001b[0m \u001b[0mself\u001b[0m\u001b[1;33m)\u001b[0m\u001b[1;33m\u001b[0m\u001b[0m\n\u001b[0m\u001b[0;32m    252\u001b[0m \u001b[1;33m\u001b[0m\u001b[0m\n\u001b[0;32m    253\u001b[0m     \u001b[1;32mdef\u001b[0m \u001b[0min_\u001b[0m\u001b[1;33m(\u001b[0m\u001b[0mself\u001b[0m\u001b[1;33m,\u001b[0m \u001b[0mx\u001b[0m\u001b[1;33m)\u001b[0m\u001b[1;33m:\u001b[0m\u001b[1;33m\u001b[0m\u001b[0m\n",
        "\u001b[1;31mIncompatibleUnitsException\u001b[0m: Cannot express 1000000000.0 * m**3 in kg, the units do not have the same bases"
       ]
      },
      {
       "output_type": "stream",
       "stream": "stderr",
       "text": [
        "ERROR: An unexpected error occurred while tokenizing input\n",
        "The following traceback may be corrupted or invalid\n",
        "The error message is: ('EOF in multi-line statement', (175, 0))\n"
       ]
      }
     ],
     "prompt_number": 14
    },
    {
     "cell_type": "code",
     "collapsed": false,
     "input": [],
     "language": "python",
     "metadata": {},
     "outputs": []
    }
   ],
   "metadata": {}
  }
 ]
}